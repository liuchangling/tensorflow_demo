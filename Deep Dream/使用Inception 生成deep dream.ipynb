{
 "cells": [
  {
   "cell_type": "code",
   "execution_count": 1,
   "metadata": {
    "collapsed": true
   },
   "outputs": [],
   "source": [
    "from __future__ import print_function\n",
    "import os\n",
    "from io import BytesIO\n",
    "import numpy as np\n",
    "from functools import partial\n",
    "import PIL.Image\n",
    "import scipy.misc\n",
    "import tensorflow as tf\n"
   ]
  },
  {
   "cell_type": "markdown",
   "metadata": {},
   "source": [
    "![如何提高图像质量](./图像的高频低频解释.PNG)"
   ]
  },
  {
   "cell_type": "code",
   "execution_count": 5,
   "metadata": {
    "collapsed": true
   },
   "outputs": [],
   "source": [
    "\n",
    "def savearray(img_array,img_name):\n",
    "    scipy.misc.toimage(img_array).save(img_name)\n",
    "    print('img saved: %s' % img_name)\n",
    "\n",
    "# 原始图像可能尺寸很大，从而导致内存耗尽\n",
    "# 每次只对 tile_size * tile_size的大小图像计算梯度，避免内存耗尽\n",
    "def calc_grad_tiled(img, t_grad, tile_size=512):\n",
    "    sz = tile_size\n",
    "    h, w = img.shape[:2]\n",
    "    sx, sy = np.random.randint(sz, size=2)\n",
    "    img_shift = np.roll(np.roll(img, sx, 1), sy, 0) \n",
    "    #先在行上整体移动，再在列上整体移动\n",
    "    grad = np.zeros_like(img)\n",
    "    for y in range(0, max(h-sz//2, sz), sz):\n",
    "        for x in range(0, max(w-sz//2, sz), sz):\n",
    "            sub = img_shift[y:y+sz, x:x+sz]\n",
    "            g = sess.run(t_grad, {t_input:sub})\n",
    "            grad[y:y+sz, x:x+sz] = g\n",
    "    \n",
    "    return np.roll(np.roll(grad, -sx, 1), -sy, 0)\n",
    "    \n",
    "\n",
    "def render_deepdream(t_obj,img0, iter_n=10, step=1.5, octave_n=4, octave_scale=1.4):\n",
    "    t_score = tf.reduce_mean(t_obj)\n",
    "    t_grad = tf.gradients(t_score, t_input)[0]\n",
    "    img = img0.copy()\n",
    "    \n",
    "    # 将图像进行金字塔分解，从而分为高鹏部分和低频部分\n",
    "    # level 0 表示原图像\n",
    "    \n",
    "    octaves = []\n",
    "    \n",
    "    for i in range(octave_n - 1):\n",
    "        # 图像高和宽的元组\n",
    "        hw = img.shape[:2] \n",
    "        # 对图像分解，除以octav_scale进行缩小，再resize 重设为何原图一样大的图像\n",
    "        lo = resize(img, np.int32(np.float32(hw)/octave_scale))\n",
    "        # 用原图 减去 低频成分，得到高频成分\n",
    "        hi = img - resize(lo, hw)\n",
    "        img = lo\n",
    "        # 保存高频成分到金字塔中\n",
    "        octaves.append(hi)\n",
    "    \n",
    "    # 首先生成低频图像，再依次放大并加上高频\n",
    "    for octave in range(octave_n):\n",
    "        if octave > 0:\n",
    "            hi = octaves[-octave]\n",
    "            img = resize(img, hi.shape[:2]) + hi\n",
    "        for i in range(iter_n):\n",
    "            # 避免内存耗尽\n",
    "            g = calc_grad_tiled(img, t_grad)\n",
    "            img += g * (step / (np.abs(g).mean() + 1e-7))\n",
    "    \n",
    "    img = img.clip(0,255)\n",
    "    filename = 'render_deepdream.jpg'\n",
    "    savearray(img, filename)\n",
    "    im = PIL.Image.open(filename).show()\n",
    "\n",
    "# 将图像放大ratio倍:\n",
    "def resize_ratio(img, ratio):\n",
    "    min = img.min()\n",
    "    max = img.max()\n",
    "    # 归一化\n",
    "    img = (img-min) / (max-min)  * 255\n",
    "    # img resize\n",
    "    img = np.float32(scipy.misc.imresize(img, ratio))\n",
    "    # 还原归一化前的数值\n",
    "    img= img/255 * (max-min) + min\n",
    "    return img\n",
    "\n",
    "# 调整图像尺寸   和上面的一模一样？？\n",
    "def resize(img, hw):\n",
    "    min = img.min()\n",
    "    max = img.max()\n",
    "    # 归一化\n",
    "    img = (img-min) / (max-min)  * 255\n",
    "    # img resize\n",
    "    img = np.float32(scipy.misc.imresize(img, hw))\n",
    "    # 还原归一化前的数值\n",
    "    img= img/255 * (max-min) + min\n",
    "    return img\n",
    "\n",
    "    "
   ]
  },
  {
   "cell_type": "code",
   "execution_count": 3,
   "metadata": {
    "collapsed": true
   },
   "outputs": [],
   "source": [
    "\n",
    "graph = tf.Graph()\n",
    "model_fn = 'tensorflow_inception_graph.pb'\n",
    "sess = tf.InteractiveSession(graph = graph)\n",
    "with tf.gfile.FastGFile(model_fn, 'rb') as f:\n",
    "    graph_def = tf.GraphDef()\n",
    "    graph_def.ParseFromString(f.read())\n",
    "\n",
    "t_input = tf.placeholder(np.float32, name='input')\n",
    "imagenet_mean = 117.0\n",
    "t_preprocessed = tf.expand_dims(t_input - imagenet_mean ,0)\n",
    "tf.import_graph_def(graph_def, {'input': t_preprocessed})"
   ]
  },
  {
   "cell_type": "code",
   "execution_count": 6,
   "metadata": {},
   "outputs": [
    {
     "name": "stdout",
     "output_type": "stream",
     "text": [
      "img saved: render_deepdream.jpg\n"
     ]
    }
   ],
   "source": [
    "name = 'mixed4c'\n",
    "layer_output = graph.get_tensor_by_name('import/%s:0' % name)\n",
    "\n",
    "img0 = PIL.Image.open('car.jpeg')\n",
    "img0 = np.float32(img0)\n",
    "render_deepdream(tf.square(layer_output), img0)\n"
   ]
  },
  {
   "cell_type": "code",
   "execution_count": 8,
   "metadata": {},
   "outputs": [
    {
     "name": "stdout",
     "output_type": "stream",
     "text": [
      "img saved: render_deepdream.jpg\n"
     ]
    }
   ],
   "source": [
    "img0 = PIL.Image.open('wwx.jpg')\n",
    "img0 = np.float32(img0)\n",
    "render_deepdream(tf.square(layer_output), img0)\n"
   ]
  },
  {
   "cell_type": "code",
   "execution_count": null,
   "metadata": {
    "collapsed": true
   },
   "outputs": [],
   "source": []
  }
 ],
 "metadata": {
  "kernelspec": {
   "display_name": "Python 3",
   "language": "python",
   "name": "python3"
  },
  "language_info": {
   "codemirror_mode": {
    "name": "ipython",
    "version": 3
   },
   "file_extension": ".py",
   "mimetype": "text/x-python",
   "name": "python",
   "nbconvert_exporter": "python",
   "pygments_lexer": "ipython3",
   "version": "3.6.1"
  }
 },
 "nbformat": 4,
 "nbformat_minor": 2
}
