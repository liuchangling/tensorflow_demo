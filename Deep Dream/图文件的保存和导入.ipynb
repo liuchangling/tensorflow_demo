{
 "cells": [
  {
   "cell_type": "code",
   "execution_count": 1,
   "metadata": {
    "collapsed": true
   },
   "outputs": [],
   "source": [
    "import tensorflow as tf\n",
    "\n",
    "v = tf.Variable(1.0, name = 'my_variable')\n",
    "with tf.Session() as sess:\n",
    "    #  write_graph保存图文件\n",
    "    tf.train.write_graph(sess.graph_def, './tfmodel', 'test_pb.pb', as_text=False)"
   ]
  },
  {
   "cell_type": "code",
   "execution_count": 2,
   "metadata": {},
   "outputs": [],
   "source": [
    "# 加载图文件\n",
    "with tf.Session() as sess:\n",
    "    with tf.gfile.FastGFile('./tfmodel/test_pb.pb', 'rb') as f:\n",
    "        graph_def = tf.GraphDef()\n",
    "        graph_def.ParseFromString(f.read())\n",
    "        sess.graph.as_default()\n",
    "        # 加载图 import_graph_def \n",
    "        tf.import_graph_def(graph_def, name='tf.graph')\n",
    "        #print(graph_def)\n"
   ]
  },
  {
   "cell_type": "code",
   "execution_count": null,
   "metadata": {
    "collapsed": true
   },
   "outputs": [],
   "source": []
  }
 ],
 "metadata": {
  "kernelspec": {
   "display_name": "Python 3",
   "language": "python",
   "name": "python3"
  },
  "language_info": {
   "codemirror_mode": {
    "name": "ipython",
    "version": 3
   },
   "file_extension": ".py",
   "mimetype": "text/x-python",
   "name": "python",
   "nbconvert_exporter": "python",
   "pygments_lexer": "ipython3",
   "version": "3.6.1"
  }
 },
 "nbformat": 4,
 "nbformat_minor": 2
}
