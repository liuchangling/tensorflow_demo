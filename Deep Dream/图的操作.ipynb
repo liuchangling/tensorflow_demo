{
 "cells": [
  {
   "cell_type": "code",
   "execution_count": 1,
   "metadata": {},
   "outputs": [
    {
     "name": "stdout",
     "output_type": "stream",
     "text": [
      "<tensorflow.python.framework.ops.Graph object at 0x00000019D70F0FD0>\n",
      "<tensorflow.python.framework.ops.Graph object at 0x00000019D571B208>\n"
     ]
    }
   ],
   "source": [
    "import tensorflow as tf\n",
    "g = tf.Graph() # 创建新的图\n",
    "with g.as_default():\n",
    "    c1 = tf.constant(0.0)\n",
    "    print(c1.graph)\n",
    "# 重置默认图\n",
    "tf.reset_default_graph()\n",
    "# 获取默认图\n",
    "g2 = tf.get_default_graph() \n",
    "print(g2)\n"
   ]
  },
  {
   "cell_type": "code",
   "execution_count": 2,
   "metadata": {},
   "outputs": [
    {
     "name": "stdout",
     "output_type": "stream",
     "text": [
      "Const:0\n",
      "Tensor(\"Const:0\", shape=(), dtype=float32)\n",
      "Tensor(\"Const:0\", shape=(), dtype=float32)\n"
     ]
    }
   ],
   "source": [
    "# 如何获取张量？\n",
    "# 通过name和get_tensor_by_name 获取张量\n",
    "# 获取张量的名字\n",
    "print(c1.name)\n",
    "# 将张量的名字放到get_tensor_by_name中\n",
    "t = g.get_tensor_by_name(name='Const:0')\n",
    "print(t)\n",
    "print(c1)"
   ]
  },
  {
   "cell_type": "code",
   "execution_count": 3,
   "metadata": {},
   "outputs": [
    {
     "name": "stdout",
     "output_type": "stream",
     "text": [
      "Tensor(\"example_op:0\", shape=(1, 1), dtype=float32)\n",
      "example_op:0\n",
      "example_op\n",
      "name: \"example_op\"\n",
      "op: \"MatMul\"\n",
      "input: \"Const\"\n",
      "input: \"Const_1\"\n",
      "attr {\n",
      "  key: \"T\"\n",
      "  value {\n",
      "    type: DT_FLOAT\n",
      "  }\n",
      "}\n",
      "attr {\n",
      "  key: \"transpose_a\"\n",
      "  value {\n",
      "    b: false\n",
      "  }\n",
      "}\n",
      "attr {\n",
      "  key: \"transpose_b\"\n",
      "  value {\n",
      "    b: false\n",
      "  }\n",
      "}\n",
      "\n"
     ]
    }
   ],
   "source": [
    "# 获取操作\n",
    "# 套路和上面一样，先获取name，在传给 \n",
    "a = tf.constant([[1.0,2.0]])\n",
    "b = tf.constant([[1.0],[3.0]])\n",
    "\n",
    "tensor1 = tf.matmul(a,b, name='example_op')\n",
    "print(tensor1)\n",
    "print(tensor1.name)\n",
    "# 获取操作name\n",
    "print(tensor1.op.name)\n",
    "test_op = g2.get_operation_by_name(tensor1.op.name)\n",
    "print(test_op)"
   ]
  },
  {
   "cell_type": "markdown",
   "metadata": {},
   "source": [
    "上面例子中 tensor1是一个张量 不是op。 op是张量的运算关系，如 打印出来的test_op的op属性中 matmul才是操作"
   ]
  }
 ],
 "metadata": {
  "kernelspec": {
   "display_name": "Python 3",
   "language": "python",
   "name": "python3"
  },
  "language_info": {
   "codemirror_mode": {
    "name": "ipython",
    "version": 3
   },
   "file_extension": ".py",
   "mimetype": "text/x-python",
   "name": "python",
   "nbconvert_exporter": "python",
   "pygments_lexer": "ipython3",
   "version": "3.6.1"
  }
 },
 "nbformat": 4,
 "nbformat_minor": 2
}
