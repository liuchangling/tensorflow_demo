{
 "cells": [
  {
   "cell_type": "code",
   "execution_count": 1,
   "metadata": {},
   "outputs": [
    {
     "name": "stdout",
     "output_type": "stream",
     "text": [
      "Extracting MNIST_data\\train-images-idx3-ubyte.gz\n",
      "Extracting MNIST_data\\train-labels-idx1-ubyte.gz\n",
      "Extracting MNIST_data\\t10k-images-idx3-ubyte.gz\n",
      "Extracting MNIST_data\\t10k-labels-idx1-ubyte.gz\n"
     ]
    }
   ],
   "source": [
    "%matplotlib inline\n",
    "import tensorflow as tf\n",
    "import tensorflow.examples.tutorials.mnist.input_data as input_data\n",
    "import matplotlib.pyplot as plt\n",
    "\n",
    "# onehot编码有很多好处\n",
    "mnist = input_data.read_data_sets(\"MNIST_data\", one_hot=True)"
   ]
  },
  {
   "cell_type": "code",
   "execution_count": 2,
   "metadata": {},
   "outputs": [
    {
     "name": "stdout",
     "output_type": "stream",
     "text": [
      "train =  55000  validation =  5000  test =  10000\n",
      "train images shape: (55000, 784) labels shape: (55000, 10)\n",
      "784\n",
      "(784,)\n",
      "[[ 0.          0.          0.          0.          0.          0.          0.\n",
      "   0.          0.          0.          0.          0.          0.          0.\n",
      "   0.          0.          0.          0.          0.          0.          0.\n",
      "   0.          0.          0.          0.          0.          0.          0.        ]\n",
      " [ 0.          0.          0.          0.          0.          0.          0.\n",
      "   0.          0.          0.          0.          0.          0.          0.\n",
      "   0.          0.          0.          0.          0.          0.          0.\n",
      "   0.          0.          0.          0.          0.          0.          0.        ]\n",
      " [ 0.          0.          0.          0.          0.          0.          0.\n",
      "   0.          0.          0.          0.          0.          0.          0.\n",
      "   0.          0.          0.          0.          0.          0.          0.\n",
      "   0.          0.          0.          0.          0.          0.          0.        ]\n",
      " [ 0.          0.          0.          0.          0.          0.          0.\n",
      "   0.          0.          0.          0.          0.          0.          0.\n",
      "   0.          0.          0.          0.          0.          0.          0.\n",
      "   0.          0.          0.          0.          0.          0.          0.        ]\n",
      " [ 0.          0.          0.          0.          0.          0.          0.\n",
      "   0.          0.          0.          0.          0.          0.          0.\n",
      "   0.          0.          0.          0.          0.          0.          0.\n",
      "   0.          0.          0.          0.          0.          0.          0.        ]\n",
      " [ 0.          0.          0.          0.          0.          0.          0.\n",
      "   0.          0.          0.          0.          0.          0.          0.\n",
      "   0.          0.          0.          0.          0.          0.          0.\n",
      "   0.          0.          0.          0.          0.          0.          0.        ]\n",
      " [ 0.          0.          0.          0.          0.          0.          0.\n",
      "   0.          0.          0.          0.          0.          0.          0.\n",
      "   0.          0.          0.          0.          0.          0.          0.\n",
      "   0.          0.          0.          0.          0.          0.          0.        ]\n",
      " [ 0.          0.          0.          0.          0.          0.          0.\n",
      "   0.          0.          0.          0.          0.38039219  0.37647063\n",
      "   0.3019608   0.46274513  0.2392157   0.          0.          0.          0.\n",
      "   0.          0.          0.          0.          0.          0.          0.\n",
      "   0.        ]\n",
      " [ 0.          0.          0.          0.35294119  0.5411765   0.92156869\n",
      "   0.92156869  0.92156869  0.92156869  0.92156869  0.92156869  0.98431379\n",
      "   0.98431379  0.97254908  0.99607849  0.96078438  0.92156869  0.74509805\n",
      "   0.08235294  0.          0.          0.          0.          0.          0.\n",
      "   0.          0.          0.        ]\n",
      " [ 0.          0.          0.54901963  0.98431379  0.99607849  0.99607849\n",
      "   0.99607849  0.99607849  0.99607849  0.99607849  0.99607849  0.99607849\n",
      "   0.99607849  0.99607849  0.99607849  0.99607849  0.99607849  0.99607849\n",
      "   0.74117649  0.09019608  0.          0.          0.          0.          0.\n",
      "   0.          0.          0.        ]\n",
      " [ 0.          0.          0.88627458  0.99607849  0.81568635  0.78039223\n",
      "   0.78039223  0.78039223  0.78039223  0.54509807  0.2392157   0.2392157\n",
      "   0.2392157   0.2392157   0.2392157   0.50196081  0.8705883   0.99607849\n",
      "   0.99607849  0.74117649  0.08235294  0.          0.          0.          0.\n",
      "   0.          0.          0.        ]\n",
      " [ 0.          0.          0.14901961  0.32156864  0.0509804   0.          0.\n",
      "   0.          0.          0.          0.          0.          0.          0.\n",
      "   0.          0.          0.13333334  0.83529419  0.99607849  0.99607849\n",
      "   0.45098042  0.          0.          0.          0.          0.          0.\n",
      "   0.        ]\n",
      " [ 0.          0.          0.          0.          0.          0.          0.\n",
      "   0.          0.          0.          0.          0.          0.          0.\n",
      "   0.          0.          0.          0.32941177  0.99607849  0.99607849\n",
      "   0.91764712  0.          0.          0.          0.          0.          0.\n",
      "   0.        ]\n",
      " [ 0.          0.          0.          0.          0.          0.          0.\n",
      "   0.          0.          0.          0.          0.          0.          0.\n",
      "   0.          0.          0.          0.32941177  0.99607849  0.99607849\n",
      "   0.91764712  0.          0.          0.          0.          0.          0.\n",
      "   0.        ]\n",
      " [ 0.          0.          0.          0.          0.          0.          0.\n",
      "   0.          0.          0.          0.          0.          0.          0.\n",
      "   0.          0.          0.41568631  0.6156863   0.99607849  0.99607849\n",
      "   0.95294124  0.20000002  0.          0.          0.          0.          0.\n",
      "   0.        ]\n",
      " [ 0.          0.          0.          0.          0.          0.          0.\n",
      "   0.          0.          0.          0.          0.09803922  0.45882356\n",
      "   0.89411771  0.89411771  0.89411771  0.99215692  0.99607849  0.99607849\n",
      "   0.99607849  0.99607849  0.94117653  0.          0.          0.          0.\n",
      "   0.          0.        ]\n",
      " [ 0.          0.          0.          0.          0.          0.          0.\n",
      "   0.          0.          0.26666668  0.4666667   0.86274517  0.99607849\n",
      "   0.99607849  0.99607849  0.99607849  0.99607849  0.99607849  0.99607849\n",
      "   0.99607849  0.99607849  0.55686277  0.          0.          0.          0.\n",
      "   0.          0.        ]\n",
      " [ 0.          0.          0.          0.          0.          0.          0.\n",
      "   0.14509805  0.73333335  0.99215692  0.99607849  0.99607849  0.99607849\n",
      "   0.87450987  0.80784321  0.80784321  0.29411766  0.26666668  0.84313732\n",
      "   0.99607849  0.99607849  0.45882356  0.          0.          0.          0.\n",
      "   0.          0.        ]\n",
      " [ 0.          0.          0.          0.          0.          0.\n",
      "   0.44313729  0.8588236   0.99607849  0.94901967  0.89019614  0.45098042\n",
      "   0.34901962  0.12156864  0.          0.          0.          0.\n",
      "   0.7843138   0.99607849  0.9450981   0.16078432  0.          0.          0.\n",
      "   0.          0.          0.        ]\n",
      " [ 0.          0.          0.          0.          0.          0.\n",
      "   0.66274512  0.99607849  0.6901961   0.24313727  0.          0.          0.\n",
      "   0.          0.          0.          0.          0.18823531  0.90588242\n",
      "   0.99607849  0.91764712  0.          0.          0.          0.          0.\n",
      "   0.          0.        ]\n",
      " [ 0.          0.          0.          0.          0.          0.\n",
      "   0.07058824  0.48627454  0.          0.          0.          0.          0.\n",
      "   0.          0.          0.          0.          0.32941177  0.99607849\n",
      "   0.99607849  0.65098041  0.          0.          0.          0.          0.\n",
      "   0.          0.        ]\n",
      " [ 0.          0.          0.          0.          0.          0.          0.\n",
      "   0.          0.          0.          0.          0.          0.          0.\n",
      "   0.          0.          0.          0.54509807  0.99607849  0.9333334\n",
      "   0.22352943  0.          0.          0.          0.          0.          0.\n",
      "   0.        ]\n",
      " [ 0.          0.          0.          0.          0.          0.          0.\n",
      "   0.          0.          0.          0.          0.          0.          0.\n",
      "   0.          0.          0.82352948  0.98039222  0.99607849  0.65882355\n",
      "   0.          0.          0.          0.          0.          0.          0.\n",
      "   0.        ]\n",
      " [ 0.          0.          0.          0.          0.          0.          0.\n",
      "   0.          0.          0.          0.          0.          0.          0.\n",
      "   0.          0.          0.94901967  0.99607849  0.93725497  0.22352943\n",
      "   0.          0.          0.          0.          0.          0.          0.\n",
      "   0.        ]\n",
      " [ 0.          0.          0.          0.          0.          0.          0.\n",
      "   0.          0.          0.          0.          0.          0.          0.\n",
      "   0.          0.34901962  0.98431379  0.9450981   0.33725491  0.          0.\n",
      "   0.          0.          0.          0.          0.          0.          0.        ]\n",
      " [ 0.          0.          0.          0.          0.          0.          0.\n",
      "   0.          0.          0.          0.          0.          0.          0.\n",
      "   0.01960784  0.80784321  0.96470594  0.6156863   0.          0.          0.\n",
      "   0.          0.          0.          0.          0.          0.          0.        ]\n",
      " [ 0.          0.          0.          0.          0.          0.          0.\n",
      "   0.          0.          0.          0.          0.          0.          0.\n",
      "   0.01568628  0.45882356  0.27058825  0.          0.          0.          0.\n",
      "   0.          0.          0.          0.          0.          0.          0.        ]\n",
      " [ 0.          0.          0.          0.          0.          0.          0.\n",
      "   0.          0.          0.          0.          0.          0.          0.\n",
      "   0.          0.          0.          0.          0.          0.          0.\n",
      "   0.          0.          0.          0.          0.          0.          0.        ]]\n"
     ]
    }
   ],
   "source": [
    "# 看看数据集长啥样\n",
    "print('train = ', mnist.train.num_examples,\n",
    "      ' validation = ', mnist.validation.num_examples,\n",
    "      ' test = ', mnist.test.num_examples)\n",
    "print('train images shape:', mnist.train.images.shape,\n",
    "      'labels shape:' , mnist.train.labels.shape)\n",
    "print(len(mnist.train.images[0]))\n",
    "print(mnist.train.images[0].shape)\n",
    "print(mnist.train.images[0].reshape(28,28))"
   ]
  },
  {
   "cell_type": "code",
   "execution_count": 3,
   "metadata": {},
   "outputs": [
    {
     "name": "stdout",
     "output_type": "stream",
     "text": [
      "[ 0.  0.  0.  1.  0.  0.  0.  0.  0.  0.]\n",
      "(10,)\n"
     ]
    }
   ],
   "source": [
    "print(mnist.train.labels[1])\n",
    "print(mnist.train.labels[1].shape)"
   ]
  },
  {
   "cell_type": "code",
   "execution_count": 4,
   "metadata": {},
   "outputs": [
    {
     "data": {
      "image/png": "[encoded data removed]",
      "text/plain": [
       "<matplotlib.figure.Figure at 0x1cd5343ef0>"
      ]
     },
     "metadata": {},
     "output_type": "display_data"
    },
    {
     "data": {
      "image/png": "[encoded data removed]",
      "text/plain": [
       "<matplotlib.figure.Figure at 0x1cd57134a8>"
      ]
     },
     "metadata": {},
     "output_type": "display_data"
    }
   ],
   "source": [
    "#按照28*28展示一个图片\n",
    "def plot_image(image):\n",
    "    plt.imshow(image.reshape(28,28), cmap='binary')\n",
    "    plt.show()\n",
    "plot_image(mnist.train.images[1])\n",
    "plot_image(mnist.train.images[5])"
   ]
  }
 ],
 "metadata": {
  "kernelspec": {
   "display_name": "Python 3",
   "language": "python",
   "name": "python3"
  },
  "language_info": {
   "codemirror_mode": {
    "name": "ipython",
    "version": 3
   },
   "file_extension": ".py",
   "mimetype": "text/x-python",
   "name": "python",
   "nbconvert_exporter": "python",
   "pygments_lexer": "ipython3",
   "version": "3.7.3"
  }
 },
 "nbformat": 4,
 "nbformat_minor": 2
}
