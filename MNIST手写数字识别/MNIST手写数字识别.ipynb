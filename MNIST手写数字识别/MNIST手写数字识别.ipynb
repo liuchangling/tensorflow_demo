{
 "cells": [
  {
   "cell_type": "code",
   "execution_count": 1,
   "metadata": {},
   "outputs": [
    {
     "name": "stdout",
     "output_type": "stream",
     "text": [
      "Extracting MNIST_data\\train-images-idx3-ubyte.gz\n",
      "Extracting MNIST_data\\train-labels-idx1-ubyte.gz\n",
      "Extracting MNIST_data\\t10k-images-idx3-ubyte.gz\n",
      "Extracting MNIST_data\\t10k-labels-idx1-ubyte.gz\n"
     ]
    }
   ],
   "source": [
    "%matplotlib inline\n",
    "import tensorflow as tf\n",
    "import tensorflow.examples.tutorials.mnist.input_data as input_data\n",
    "import matplotlib.pyplot as plt\n",
    "# onehot编码有很多好处\n",
    "mnist = input_data.read_data_sets(\"MNIST_data\", one_hot=True)"
   ]
  },
  {
   "cell_type": "code",
   "execution_count": 4,
   "metadata": {},
   "outputs": [],
   "source": [
    "#按照28*28展示一个图片\n",
    "def plot_image(image):\n",
    "    plt.imshow(image.reshape(28,28), cmap='binary')\n",
    "    plt.show()\n",
    "\n",
    "batch_image_xs, batch_labels_ys = mnist.train.next_batch(batch_size=10)"
   ]
  },
  {
   "cell_type": "code",
   "execution_count": 7,
   "metadata": {},
   "outputs": [
    {
     "name": "stdout",
     "output_type": "stream",
     "text": [
      "[ 0.58198118  0.19372377  0.485587    0.07847831  0.32807401 -0.07667918\n",
      " -1.0569334  -1.70639551  1.93657768  0.29367301  1.41963089  1.41155767\n",
      "  0.42541131 -0.41434312 -0.29986468  0.94810057  1.59578693  2.1687634\n",
      " -0.92968339  0.92427456  1.30531657 -1.37315917 -0.8680467  -0.2459325\n",
      " -1.18103933 -2.00140476 -0.48131362  0.73478204  0.24817182  0.57078147\n",
      "  0.64670068  1.96553588  1.42315364  0.36071682 -1.72546268  1.91096866\n",
      "  1.02032685 -0.03448952  1.5919981   1.03227162  0.27459824  0.83098251\n",
      " -0.22309536 -0.27373162  0.21302417 -1.65115142  0.09113581  0.61598343\n",
      " -0.37585649 -0.11937314 -1.12605524 -0.16308263 -1.74607158  0.88872468\n",
      " -0.34244746  1.36420894  0.06152403  0.94585407 -0.41827792 -2.60390544\n",
      " -0.69997638 -0.88700867  0.98620707 -1.13236582  1.64875734 -1.93245184\n",
      "  0.20654012  1.93171763  2.13289309 -0.76782477 -1.98228264 -1.76693714\n",
      " -0.30558997 -0.63574082 -0.31348521  1.27460325 -0.99817991  0.51901501\n",
      " -2.40087342 -0.4078154   0.74746472  0.48119849  1.46449697  0.51480168\n",
      " -0.73260659 -1.1936065  -0.37830538 -0.44767681  0.67023641 -0.00963684\n",
      " -1.16064608  2.51422668 -0.99473238  0.66071123  0.84241247  1.85816157\n",
      "  0.17917423  1.8576057  -0.25291103  0.64478683]\n"
     ]
    },
    {
     "data": {
      "image/png": "[encoded data removed]",
      "text/plain": [
       "<matplotlib.figure.Figure at 0xf29a850898>"
      ]
     },
     "metadata": {},
     "output_type": "display_data"
    }
   ],
   "source": [
    "x = tf.placeholder(tf.float32, [None,784], name='X')\n",
    "y = tf.placeholder(tf.float32, [None,10], name='Y')\n",
    "w = tf.Variable(tf.random_normal([784, 10]), name='W')\n",
    "b = tf.Variable(tf.zeros([10]),name='b')\n",
    "\n",
    "forward = tf.matmul(x,w) + b\n",
    "\n",
    "# Softmax分类\n",
    "pred = tf.nn.softmax(forward)\n"
   ]
  },
  {
   "cell_type": "code",
   "execution_count": null,
   "metadata": {
    "collapsed": true
   },
   "outputs": [],
   "source": []
  }
 ],
 "metadata": {
  "kernelspec": {
   "display_name": "Python 3",
   "language": "python",
   "name": "python3"
  },
  "language_info": {
   "codemirror_mode": {
    "name": "ipython",
    "version": 3
   },
   "file_extension": ".py",
   "mimetype": "text/x-python",
   "name": "python",
   "nbconvert_exporter": "python",
   "pygments_lexer": "ipython3",
   "version": "3.6.1"
  }
 },
 "nbformat": 4,
 "nbformat_minor": 2
}
