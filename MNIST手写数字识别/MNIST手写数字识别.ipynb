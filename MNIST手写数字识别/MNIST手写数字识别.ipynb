{
 "cells": [
  {
   "cell_type": "code",
   "execution_count": 1,
   "metadata": {},
   "outputs": [
    {
     "name": "stdout",
     "output_type": "stream",
     "text": [
      "Extracting MNIST_data\\train-images-idx3-ubyte.gz\n",
      "Extracting MNIST_data\\train-labels-idx1-ubyte.gz\n",
      "Extracting MNIST_data\\t10k-images-idx3-ubyte.gz\n",
      "Extracting MNIST_data\\t10k-labels-idx1-ubyte.gz\n"
     ]
    }
   ],
   "source": [
    "%matplotlib inline\n",
    "import tensorflow as tf\n",
    "import tensorflow.examples.tutorials.mnist.input_data as input_data\n",
    "import matplotlib.pyplot as plt\n",
    "import numpy as np\n",
    "\n",
    "# onehot编码有很多好处\n",
    "mnist = input_data.read_data_sets(\"MNIST_data\", one_hot=True)"
   ]
  },
  {
   "cell_type": "code",
   "execution_count": 2,
   "metadata": {
    "collapsed": true
   },
   "outputs": [],
   "source": [
    "x = tf.placeholder(tf.float32, [None,784], name='X')\n",
    "y = tf.placeholder(tf.float32, [None,10], name='Y')\n",
    "w = tf.Variable(tf.random_normal([784, 10]), name='W')\n",
    "b = tf.Variable(tf.zeros([10]),name='b')\n",
    "\n",
    "# 前向计算\n",
    "forward = tf.matmul(x,w) + b\n",
    "\n",
    "# Softmax分类化后作为pred\n",
    "pred = tf.nn.softmax(forward)\n",
    "\n",
    "#超参数\n",
    "train_epochs = 1000\n",
    "batch_size = 50 #单次训练样本数（批次大小）\n",
    "total_batch = int(mnist.train.num_examples/batch_size)\n",
    "display_step = 20 # 显示粒度\n",
    "learning_rate = 0.01\n",
    "\n",
    "# 定义交叉熵损失函数\n",
    "loss_function = tf.reduce_mean(-tf.reduce_sum(y*tf.log(pred),reduction_indices=1))\n",
    "# 优化器\n",
    "optimizer = tf.train.GradientDescentOptimizer(learning_rate).minimize(loss_function)\n",
    "\n"
   ]
  },
  {
   "cell_type": "code",
   "execution_count": 3,
   "metadata": {
    "collapsed": true
   },
   "outputs": [],
   "source": [
    "# 定义准确率\n",
    "correct_prediction = tf.equal(tf.argmax(pred,1), tf.argmax(y,1))\n",
    "accuracy = tf.reduce_mean(tf.cast(correct_prediction, tf.float32))"
   ]
  },
  {
   "cell_type": "code",
   "execution_count": 4,
   "metadata": {},
   "outputs": [
    {
     "name": "stdout",
     "output_type": "stream",
     "text": [
      " Train epoch =  20  Loss =  0.701972663  Accuracy= 0.8576\n",
      " Train epoch =  40  Loss =  0.559820771  Accuracy= 0.8818\n",
      " Train epoch =  60  Loss =  0.497593373  Accuracy= 0.8886\n",
      " Train epoch =  80  Loss =  0.459969431  Accuracy= 0.8924\n",
      " Train epoch =  100  Loss =  0.434849411  Accuracy= 0.8972\n",
      " Train epoch =  120  Loss =  0.415152252  Accuracy= 0.8974\n",
      " Train epoch =  140  Loss =  0.399727970  Accuracy= 0.8978\n",
      " Train epoch =  160  Loss =  0.388220102  Accuracy= 0.8982\n",
      " Train epoch =  180  Loss =  0.377194852  Accuracy= 0.9010\n",
      " Train epoch =  200  Loss =  0.368979871  Accuracy= 0.9026\n",
      " Train epoch =  220  Loss =  0.361168265  Accuracy= 0.9042\n",
      " Train epoch =  240  Loss =  0.355299473  Accuracy= 0.9048\n",
      " Train epoch =  260  Loss =  0.349122256  Accuracy= 0.9070\n",
      " Train epoch =  280  Loss =  0.344606876  Accuracy= 0.9060\n",
      " Train epoch =  300  Loss =  0.340614945  Accuracy= 0.9072\n",
      " Train epoch =  320  Loss =  0.336034566  Accuracy= 0.9066\n",
      " Train epoch =  340  Loss =  0.332670748  Accuracy= 0.9078\n",
      " Train epoch =  360  Loss =  0.328919053  Accuracy= 0.9084\n",
      " Train epoch =  380  Loss =  0.325842202  Accuracy= 0.9094\n",
      " Train epoch =  400  Loss =  0.322962940  Accuracy= 0.9110\n",
      " Train epoch =  420  Loss =  0.320722759  Accuracy= 0.9114\n",
      " Train epoch =  440  Loss =  0.318818063  Accuracy= 0.9100\n",
      " Train epoch =  460  Loss =  0.316164643  Accuracy= 0.9108\n",
      " Train epoch =  480  Loss =  0.314187139  Accuracy= 0.9122\n",
      " Train epoch =  500  Loss =  0.312407911  Accuracy= 0.9122\n",
      " Train epoch =  520  Loss =  0.310605526  Accuracy= 0.9142\n",
      " Train epoch =  540  Loss =  0.308988214  Accuracy= 0.9146\n",
      " Train epoch =  560  Loss =  0.307297647  Accuracy= 0.9144\n",
      " Train epoch =  580  Loss =  0.306172252  Accuracy= 0.9154\n",
      " Train epoch =  600  Loss =  0.305344582  Accuracy= 0.9156\n",
      " Train epoch =  620  Loss =  0.303620756  Accuracy= 0.9166\n",
      " Train epoch =  640  Loss =  0.302540809  Accuracy= 0.9162\n",
      " Train epoch =  660  Loss =  0.301449329  Accuracy= 0.9164\n",
      " Train epoch =  680  Loss =  0.300398141  Accuracy= 0.9166\n",
      " Train epoch =  700  Loss =  0.299498290  Accuracy= 0.9170\n",
      " Train epoch =  720  Loss =  0.298293471  Accuracy= 0.9168\n",
      " Train epoch =  740  Loss =  0.297391057  Accuracy= 0.9168\n",
      " Train epoch =  760  Loss =  0.297491848  Accuracy= 0.9172\n",
      " Train epoch =  780  Loss =  0.296736568  Accuracy= 0.9174\n",
      " Train epoch =  800  Loss =  0.294853628  Accuracy= 0.9182\n",
      " Train epoch =  820  Loss =  0.294888467  Accuracy= 0.9176\n",
      " Train epoch =  840  Loss =  0.293977141  Accuracy= 0.9190\n",
      " Train epoch =  860  Loss =  0.293207109  Accuracy= 0.9188\n",
      " Train epoch =  880  Loss =  0.292418510  Accuracy= 0.9196\n",
      " Train epoch =  900  Loss =  0.292002797  Accuracy= 0.9194\n",
      " Train epoch =  920  Loss =  0.291227162  Accuracy= 0.9200\n",
      " Train epoch =  940  Loss =  0.290970564  Accuracy= 0.9200\n",
      " Train epoch =  960  Loss =  0.290486127  Accuracy= 0.9200\n",
      " Train epoch =  980  Loss =  0.289893121  Accuracy= 0.9206\n",
      " Train epoch =  1000  Loss =  0.289452374  Accuracy= 0.9198\n",
      "Train Finished!!\n"
     ]
    },
    {
     "data": {
      "text/plain": [
       "[<matplotlib.lines.Line2D at 0xcbbd729b38>]"
      ]
     },
     "execution_count": 4,
     "metadata": {},
     "output_type": "execute_result"
    },
    {
     "data": {
      "image/png": "[encoded data removed]",
      "text/plain": [
       "<matplotlib.figure.Figure at 0xcbbb4910f0>"
      ]
     },
     "metadata": {},
     "output_type": "display_data"
    }
   ],
   "source": [
    "sess = tf.Session()\n",
    "sess.run(tf.global_variables_initializer())\n",
    "loss_list = []\n",
    "\n",
    "for epoch in range(train_epochs):\n",
    "    for bacth in range(total_batch): \n",
    "        #分批读取数据, next_batch 会对数据集进行shuffle\n",
    "        xs, ys = mnist.train.next_batch(batch_size)\n",
    "        sess.run(optimizer, feed_dict={x:xs, y:ys})\n",
    "    \n",
    "    #使用验证集填充，并计算loss & acc\n",
    "    loss, acc = sess.run([loss_function, accuracy], feed_dict={x:mnist.validation.images, y:mnist.validation.labels})\n",
    "    loss_list.append(loss)\n",
    "    \n",
    "    if (epoch + 1)% display_step == 0:\n",
    "        print (' Train epoch = ','%02d'%(epoch+1), \n",
    "               ' Loss = ', '{:.9f}'.format(loss),\n",
    "               ' Accuracy=','{:.4f}'.format(acc))\n",
    "\n",
    "print('Train Finished!!')\n",
    "plt.plot(loss_list)"
   ]
  },
  {
   "cell_type": "code",
   "execution_count": 5,
   "metadata": {},
   "outputs": [
    {
     "name": "stdout",
     "output_type": "stream",
     "text": [
      "Test Accuracy: 0.9217\n",
      "Train Accuracy: 0.932782\n"
     ]
    }
   ],
   "source": [
    "# 评估模型\n",
    "# 测试集\n",
    "accu_test = sess.run(accuracy, feed_dict={x:mnist.test.images, y:mnist.test.labels})\n",
    "print(\"Test Accuracy:\", accu_test)\n",
    "\n",
    "accu_train = sess.run(accuracy, feed_dict={x:mnist.train.images, y:mnist.train.labels})\n",
    "print(\"Train Accuracy:\", accu_train)"
   ]
  },
  {
   "cell_type": "code",
   "execution_count": 6,
   "metadata": {
    "collapsed": true
   },
   "outputs": [],
   "source": [
    "# 可视化看结果的函数，最多显示25张图\n",
    "def plot_images_labels_prediction(images,\n",
    "                                  labels,\n",
    "                                  prediction,\n",
    "                                  index, # 从第index个开始显示\n",
    "                                  num=10):\n",
    "    fig = plt.gcf()# get current figure\n",
    "    fig.set_size_inches(10,12) # 当前图像大小为10英寸*12英寸\n",
    "    if num>25:\n",
    "        num = 25\n",
    "    for i in range(0,num):\n",
    "        ax = plt.subplot(5,5,i+1) # 获取当前要处理的子图\n",
    "        ax.imshow(np.reshape(images[index],(28,28)),cmap='binary') #指定image reshape\n",
    "        title = 'label=' + str(np.argmax(labels[index]))\n",
    "        \n",
    "        ax.set_title(title,fontsize=10) # 在图上显示预测值\n",
    "        ax.set_xticks([]) # 为了美观， 不显示x和y轴\n",
    "        ax.set_xticks([])\n",
    "        index = index + 1\n",
    "    plt.show()\n",
    "    "
   ]
  },
  {
   "cell_type": "code",
   "execution_count": 7,
   "metadata": {},
   "outputs": [
    {
     "data": {
      "image/png": "[encoded data removed]",
      "text/plain": [
       "<matplotlib.figure.Figure at 0xcbbb36b518>"
      ]
     },
     "metadata": {},
     "output_type": "display_data"
    }
   ],
   "source": [
    "\n",
    "prediction_result = sess.run(tf.argmax(pred, 1), feed_dict={x:mnist.test.images})\n",
    "#print(prediction_result[0:10])\n",
    "plot_images_labels_prediction(mnist.test.images,mnist.test.labels,prediction_result,10,25)\n",
    "\n"
   ]
  },
  {
   "cell_type": "code",
   "execution_count": 8,
   "metadata": {},
   "outputs": [
    {
     "data": {
      "text/plain": [
       "array([[ 1.31634533,  0.31936461, -0.15631121, ..., -0.60318696,\n",
       "        -0.51411504, -0.34456044],\n",
       "       [-0.33311635,  0.69827616, -0.09586048, ..., -1.2011286 ,\n",
       "         0.96284169,  0.64592898],\n",
       "       [-1.05996454,  1.20852816, -0.0096075 , ..., -0.04744251,\n",
       "        -0.54508877, -1.41364181],\n",
       "       ..., \n",
       "       [ 0.42415065,  2.36509728, -0.81851745, ...,  1.2633369 ,\n",
       "        -1.53467441, -2.09781337],\n",
       "       [ 0.04510908,  1.26113355, -0.54740047, ...,  0.09285753,\n",
       "         0.28311133, -0.90361857],\n",
       "       [-0.40195206,  0.56936634, -1.12205732, ..., -0.16444777,\n",
       "        -0.29349801,  1.38732302]], dtype=float32)"
      ]
     },
     "execution_count": 8,
     "metadata": {},
     "output_type": "execute_result"
    }
   ],
   "source": [
    "w.eval(session = sess)"
   ]
  },
  {
   "cell_type": "code",
   "execution_count": 9,
   "metadata": {},
   "outputs": [
    {
     "data": {
      "text/plain": [
       "array([-1.54414392,  1.30634272,  0.12633048, -0.60439378,  0.15940462,\n",
       "        2.38647056, -0.67621976,  1.62569153, -2.29418111, -0.48518813], dtype=float32)"
      ]
     },
     "execution_count": 9,
     "metadata": {},
     "output_type": "execute_result"
    }
   ],
   "source": [
    "b.eval(session = sess)"
   ]
  },
  {
   "cell_type": "code",
   "execution_count": 10,
   "metadata": {
    "collapsed": true
   },
   "outputs": [],
   "source": [
    "sess.close()"
   ]
  },
  {
   "cell_type": "code",
   "execution_count": null,
   "metadata": {
    "collapsed": true
   },
   "outputs": [],
   "source": []
  }
 ],
 "metadata": {
  "kernelspec": {
   "display_name": "Python 3",
   "language": "python",
   "name": "python3"
  },
  "language_info": {
   "codemirror_mode": {
    "name": "ipython",
    "version": 3
   },
   "file_extension": ".py",
   "mimetype": "text/x-python",
   "name": "python",
   "nbconvert_exporter": "python",
   "pygments_lexer": "ipython3",
   "version": "3.6.1"
  }
 },
 "nbformat": 4,
 "nbformat_minor": 2
}
