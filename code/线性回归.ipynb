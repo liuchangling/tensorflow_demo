{
 "cells": [
  {
   "cell_type": "code",
   "execution_count": 1,
   "metadata": {},
   "outputs": [],
   "source": [
    "# 这次实战会随机生成一个2x+1的数据集，噪声不大于0.4，然后训练得到wx+b中的w和b\n",
    "%matplotlib inline\n",
    "\n",
    "import tensorflow as tf\n",
    "import numpy as np\n",
    "import matplotlib.pyplot as plt"
   ]
  },
  {
   "cell_type": "code",
   "execution_count": 2,
   "metadata": {},
   "outputs": [
    {
     "data": {
      "text/plain": [
       "[<matplotlib.lines.Line2D at 0x62d3149e8>]"
      ]
     },
     "execution_count": 2,
     "metadata": {},
     "output_type": "execute_result"
    },
    {
     "data": {
      "image/png": "[encoded data removed]",
      "text/plain": [
       "<Figure size 432x288 with 1 Axes>"
      ]
     },
     "metadata": {
      "needs_background": "light"
     },
     "output_type": "display_data"
    }
   ],
   "source": [
    "#1. 准备数据\n",
    "np.random.seed(8)\n",
    "\n",
    "#随机生成一个2x+1的数据集，噪声不大于0.4\n",
    "x_data = np.linspace(-1,1,100)\n",
    "y_data = 2 * x_data + 1.0 + np.random.randn(*x_data.shape) * 0.4\n",
    "\n",
    "# 画出来瞅瞅\n",
    "plt.scatter(x_data, y_data)\n",
    "plt.plot(x_data, 2 * x_data + 1, color='red', linewidth=3)"
   ]
  },
  {
   "cell_type": "code",
   "execution_count": 12,
   "metadata": {},
   "outputs": [
    {
     "name": "stdout",
     "output_type": "stream",
     "text": [
      "name: \"GradientDescent_2\"\n",
      "op: \"NoOp\"\n",
      "input: \"^GradientDescent_2/update_w_2/ApplyGradientDescent\"\n",
      "input: \"^GradientDescent_2/update_b_2/ApplyGradientDescent\"\n",
      "\n"
     ]
    }
   ],
   "source": [
    "#2. 构建模型\n",
    "x = tf.placeholder('float', name='x')\n",
    "y = tf.placeholder('float', name='y')\n",
    "w = tf.Variable(1.0, name='w')\n",
    "b = tf.Variable(0.0 ,name='b')\n",
    "\n",
    "# 预测函数\n",
    "def model(w,x,b):\n",
    "    return tf.multiply(w,x) + b\n",
    "\n",
    "# 预测值\n",
    "pred = model(w,x,b)\n",
    "\n",
    "# 迭代次数（训练轮数）\n",
    "train_epochs = 10\n",
    "# 学习率（步长）\n",
    "learning_rate = 0.05\n",
    "\n",
    "# 损失函数（采用L2损失函数即MSE）\n",
    "loss_function = tf.reduce_mean(tf.square(y - pred))\n",
    "\n",
    "# 定义优化器（最小化损失优化）\n",
    "optimizer = tf.train.GradientDescentOptimizer(learning_rate).minimize(loss_function)\n",
    "print(optimizer)"
   ]
  },
  {
   "cell_type": "code",
   "execution_count": 4,
   "metadata": {},
   "outputs": [
    {
     "name": "stdout",
     "output_type": "stream",
     "text": [
      "epoch =  1 step =  10 , loss =  0.0709546\n",
      "epoch =  1 step =  20 , loss =  0.0024175206\n",
      "epoch =  1 step =  30 , loss =  0.0144923525\n",
      "epoch =  1 step =  40 , loss =  0.009112224\n",
      "epoch =  1 step =  50 , loss =  0.5657753\n",
      "epoch =  1 step =  60 , loss =  0.7236595\n",
      "epoch =  1 step =  70 , loss =  0.008254112\n",
      "epoch =  1 step =  80 , loss =  0.24276114\n",
      "epoch =  1 step =  90 , loss =  0.053767428\n",
      "epoch =  1 step =  100 , loss =  0.025361253\n",
      "epoch =  2 step =  110 , loss =  0.004975071\n",
      "epoch =  2 step =  120 , loss =  0.01682506\n",
      "epoch =  2 step =  130 , loss =  0.09286553\n",
      "epoch =  2 step =  140 , loss =  0.013991623\n",
      "epoch =  2 step =  150 , loss =  0.2625544\n",
      "epoch =  2 step =  160 , loss =  0.3626107\n",
      "epoch =  2 step =  170 , loss =  0.019999955\n",
      "epoch =  2 step =  180 , loss =  0.08925836\n",
      "epoch =  2 step =  190 , loss =  0.14312403\n",
      "epoch =  2 step =  200 , loss =  0.069168255\n",
      "epoch =  3 step =  210 , loss =  0.024505842\n",
      "epoch =  3 step =  220 , loss =  0.010032229\n",
      "epoch =  3 step =  230 , loss =  0.09583673\n",
      "epoch =  3 step =  240 , loss =  0.017711764\n",
      "epoch =  3 step =  250 , loss =  0.24333821\n",
      "epoch =  3 step =  260 , loss =  0.33827418\n",
      "epoch =  3 step =  270 , loss =  0.025881367\n",
      "epoch =  3 step =  280 , loss =  0.07977259\n",
      "epoch =  3 step =  290 , loss =  0.15261714\n",
      "epoch =  3 step =  300 , loss =  0.073847786\n",
      "epoch =  4 step =  310 , loss =  0.030870697\n",
      "epoch =  4 step =  320 , loss =  0.009539014\n",
      "epoch =  4 step =  330 , loss =  0.09608947\n",
      "epoch =  4 step =  340 , loss =  0.018045647\n",
      "epoch =  4 step =  350 , loss =  0.24175054\n",
      "epoch =  4 step =  360 , loss =  0.33625984\n",
      "epoch =  4 step =  370 , loss =  0.026412146\n",
      "epoch =  4 step =  380 , loss =  0.078996725\n",
      "epoch =  4 step =  390 , loss =  0.1534319\n",
      "epoch =  4 step =  400 , loss =  0.074249774\n",
      "epoch =  5 step =  410 , loss =  0.031441342\n",
      "epoch =  5 step =  420 , loss =  0.009497958\n",
      "epoch =  5 step =  430 , loss =  0.096110865\n",
      "epoch =  5 step =  440 , loss =  0.018073987\n",
      "epoch =  5 step =  450 , loss =  0.24161686\n",
      "epoch =  5 step =  460 , loss =  0.3360901\n",
      "epoch =  5 step =  470 , loss =  0.02645719\n",
      "epoch =  5 step =  480 , loss =  0.078931466\n",
      "epoch =  5 step =  490 , loss =  0.15350102\n",
      "epoch =  5 step =  500 , loss =  0.07428356\n",
      "epoch =  6 step =  510 , loss =  0.03148968\n",
      "epoch =  6 step =  520 , loss =  0.009494543\n",
      "epoch =  6 step =  530 , loss =  0.09611264\n",
      "epoch =  6 step =  540 , loss =  0.018076343\n",
      "epoch =  6 step =  550 , loss =  0.24160561\n",
      "epoch =  6 step =  560 , loss =  0.33607584\n",
      "epoch =  6 step =  570 , loss =  0.02646099\n",
      "epoch =  6 step =  580 , loss =  0.07892584\n",
      "epoch =  6 step =  590 , loss =  0.15350643\n",
      "epoch =  6 step =  600 , loss =  0.074286416\n",
      "epoch =  7 step =  610 , loss =  0.031493787\n",
      "epoch =  7 step =  620 , loss =  0.009494218\n",
      "epoch =  7 step =  630 , loss =  0.09611286\n",
      "epoch =  7 step =  640 , loss =  0.018076615\n",
      "epoch =  7 step =  650 , loss =  0.24160449\n",
      "epoch =  7 step =  660 , loss =  0.33607462\n",
      "epoch =  7 step =  670 , loss =  0.02646134\n",
      "epoch =  7 step =  680 , loss =  0.078925304\n",
      "epoch =  7 step =  690 , loss =  0.153507\n",
      "epoch =  7 step =  700 , loss =  0.07428681\n",
      "epoch =  8 step =  710 , loss =  0.031494126\n",
      "epoch =  8 step =  720 , loss =  0.0094941715\n",
      "epoch =  8 step =  730 , loss =  0.0961129\n",
      "epoch =  8 step =  740 , loss =  0.018076615\n",
      "epoch =  8 step =  750 , loss =  0.24160437\n",
      "epoch =  8 step =  760 , loss =  0.33607432\n",
      "epoch =  8 step =  770 , loss =  0.02646138\n",
      "epoch =  8 step =  780 , loss =  0.078925304\n",
      "epoch =  8 step =  790 , loss =  0.15350719\n",
      "epoch =  8 step =  800 , loss =  0.07428681\n",
      "epoch =  9 step =  810 , loss =  0.031494208\n",
      "epoch =  9 step =  820 , loss =  0.0094941715\n",
      "epoch =  9 step =  830 , loss =  0.0961129\n",
      "epoch =  9 step =  840 , loss =  0.018076615\n",
      "epoch =  9 step =  850 , loss =  0.24160437\n",
      "epoch =  9 step =  860 , loss =  0.33607432\n",
      "epoch =  9 step =  870 , loss =  0.02646138\n",
      "epoch =  9 step =  880 , loss =  0.078925304\n",
      "epoch =  9 step =  890 , loss =  0.15350719\n",
      "epoch =  9 step =  900 , loss =  0.07428681\n",
      "epoch =  10 step =  910 , loss =  0.031494208\n",
      "epoch =  10 step =  920 , loss =  0.0094941715\n",
      "epoch =  10 step =  930 , loss =  0.0961129\n",
      "epoch =  10 step =  940 , loss =  0.018076615\n",
      "epoch =  10 step =  950 , loss =  0.24160437\n",
      "epoch =  10 step =  960 , loss =  0.33607432\n",
      "epoch =  10 step =  970 , loss =  0.02646138\n",
      "epoch =  10 step =  980 , loss =  0.078925304\n",
      "epoch =  10 step =  990 , loss =  0.15350719\n",
      "epoch =  10 step =  1000 , loss =  0.07428681\n"
     ]
    },
    {
     "data": {
      "image/png": "[encoded data removed]",
      "text/plain": [
       "<Figure size 432x288 with 1 Axes>"
      ]
     },
     "metadata": {
      "needs_background": "light"
     },
     "output_type": "display_data"
    }
   ],
   "source": [
    "#3. 训练模型\n",
    "sess = tf.Session();\n",
    "sess.run(tf.global_variables_initializer())\n",
    "\n",
    "#这些都是可选的步骤，用于显示loss值变化\n",
    "step = 0 # 记录步数\n",
    "loss_list = [] # 保存loss值\n",
    "display_step = 10 # 显示间距\n",
    "\n",
    "for epoch in range(train_epochs):\n",
    "    for xs,ys in zip(x_data, y_data):\n",
    "        _, loss = sess.run([optimizer, loss_function], feed_dict={x:xs,y:ys})\n",
    "        loss_list.append(loss)\n",
    "        step = step + 1;\n",
    "        if step % display_step == 0 :\n",
    "            print('epoch = ',epoch + 1,'step = ',step,', loss = ',loss)\n",
    "\n",
    "    b0temp = b.eval(session = sess)\n",
    "    w0temp = w.eval(session = sess)\n",
    "    plt.plot(x_data, w0temp * x_data + b0temp)"
   ]
  },
  {
   "cell_type": "code",
   "execution_count": 5,
   "metadata": {
    "scrolled": true
   },
   "outputs": [
    {
     "name": "stdout",
     "output_type": "stream",
     "text": [
      "w: 2.1232266\n",
      "b: 1.0203329\n"
     ]
    },
    {
     "data": {
      "text/plain": [
       "<matplotlib.legend.Legend at 0x62d5eb278>"
      ]
     },
     "execution_count": 5,
     "metadata": {},
     "output_type": "execute_result"
    },
    {
     "data": {
      "image/png": "[encoded data removed]",
      "text/plain": [
       "<Figure size 432x288 with 1 Axes>"
      ]
     },
     "metadata": {
      "needs_background": "light"
     },
     "output_type": "display_data"
    }
   ],
   "source": [
    "# 3.训练模型\n",
    "print('w:' , sess.run(w))\n",
    "print('b:' , sess.run(b))\n",
    "# 结果可视化\n",
    "plt.scatter(x_data,y_data,label='original data')\n",
    "plt.plot(x_data, sess.run(w) * x_data + sess.run(b), label='result line',color='red', linewidth=3)\n",
    "plt.legend(loc=2)\n"
   ]
  },
  {
   "cell_type": "code",
   "execution_count": 6,
   "metadata": {},
   "outputs": [
    {
     "name": "stdout",
     "output_type": "stream",
     "text": [
      "实际 7.42 预测 7.8358903 差值 -0.41589029312133796\n"
     ]
    }
   ],
   "source": [
    "#4. 进行预测\n",
    "x_test = 3.21\n",
    "predict = sess.run(pred, feed_dict = {x:x_test})\n",
    "target = 2 * x_test + 1\n",
    "diff = target - predict\n",
    "\n",
    "print('实际', target, '预测', predict, '差值', diff)"
   ]
  },
  {
   "cell_type": "code",
   "execution_count": 7,
   "metadata": {},
   "outputs": [
    {
     "data": {
      "text/plain": [
       "[<matplotlib.lines.Line2D at 0x62d728588>]"
      ]
     },
     "execution_count": 7,
     "metadata": {},
     "output_type": "execute_result"
    },
    {
     "data": {
      "image/png": "[encoded data removed]",
      "text/plain": [
       "<Figure size 432x288 with 1 Axes>"
      ]
     },
     "metadata": {
      "needs_background": "light"
     },
     "output_type": "display_data"
    }
   ],
   "source": [
    "plt.plot(loss_list)"
   ]
  },
  {
   "cell_type": "code",
   "execution_count": 8,
   "metadata": {},
   "outputs": [
    {
     "data": {
      "text/plain": [
       "[<matplotlib.lines.Line2D at 0x62d83a588>]"
      ]
     },
     "execution_count": 8,
     "metadata": {},
     "output_type": "execute_result"
    },
    {
     "data": {
      "image/png": "[encoded data removed]",
      "text/plain": [
       "<Figure size 432x288 with 1 Axes>"
      ]
     },
     "metadata": {
      "needs_background": "light"
     },
     "output_type": "display_data"
    }
   ],
   "source": [
    "plt.plot(loss_list,'r+')"
   ]
  },
  {
   "cell_type": "code",
   "execution_count": 9,
   "metadata": {},
   "outputs": [
    {
     "data": {
      "text/plain": [
       "[1.7805717,\n",
       " 1.1954406,\n",
       " 1.07372,\n",
       " 1.0798312,\n",
       " 1.583379,\n",
       " 1.8837076,\n",
       " 1.0682291,\n",
       " 2.6112535,\n",
       " 3.6539502,\n",
       " 1.7230924,\n",
       " 2.0296702,\n",
       " 1.7718941,\n",
       " 1.0471213,\n",
       " 1.5590413,\n",
       " 1.5493801,\n",
       " 1.8223426,\n",
       " 1.0072482,\n",
       " 1.5330641,\n",
       " 1.660892,\n",
       " 1.826631,\n",
       " 1.0039201,\n",
       " 1.5308827,\n",
       " 1.6704768,\n",
       " 1.8269925,\n",
       " 1.0036392,\n",
       " 1.5306987,\n",
       " 1.6712877,\n",
       " 1.8270231,\n",
       " 1.0036157,\n",
       " 1.5306834,\n",
       " 1.6713551,\n",
       " 1.827026,\n",
       " 1.0036134,\n",
       " 1.5306822,\n",
       " 1.6713613,\n",
       " 1.8270264,\n",
       " 1.0036134,\n",
       " 1.5306816,\n",
       " 1.6713625,\n",
       " 1.8270264,\n",
       " 1.0036134,\n",
       " 1.5306816,\n",
       " 1.6713625,\n",
       " 1.8270264,\n",
       " 1.0036134,\n",
       " 1.5306816]"
      ]
     },
     "execution_count": 9,
     "metadata": {},
     "output_type": "execute_result"
    }
   ],
   "source": [
    "[x for x in loss_list if x>1]"
   ]
  },
  {
   "cell_type": "code",
   "execution_count": 10,
   "metadata": {},
   "outputs": [],
   "source": [
    "sess.close()"
   ]
  },
  {
   "cell_type": "code",
   "execution_count": null,
   "metadata": {},
   "outputs": [],
   "source": []
  }
 ],
 "metadata": {
  "kernelspec": {
   "display_name": "Python 3",
   "language": "python",
   "name": "python3"
  },
  "language_info": {
   "codemirror_mode": {
    "name": "ipython",
    "version": 3
   },
   "file_extension": ".py",
   "mimetype": "text/x-python",
   "name": "python",
   "nbconvert_exporter": "python",
   "pygments_lexer": "ipython3",
   "version": "3.7.3"
  }
 },
 "nbformat": 4,
 "nbformat_minor": 2
}
