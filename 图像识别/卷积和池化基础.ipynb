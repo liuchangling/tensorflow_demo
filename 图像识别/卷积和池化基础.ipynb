{
 "cells": [
  {
   "cell_type": "code",
   "execution_count": 1,
   "metadata": {},
   "outputs": [
    {
     "name": "stdout",
     "output_type": "stream",
     "text": [
      "<tf.Variable 'Variable:0' shape=(10, 9, 9, 4) dtype=float32_ref>\n",
      "Tensor(\"Conv2D:0\", shape=(10, 9, 9, 2), dtype=float32)\n"
     ]
    }
   ],
   "source": [
    "# 卷积函数使用示例\n",
    "import tensorflow as tf\n",
    "import numpy as np\n",
    "\n",
    "# tf.nn.conv2d(input, filter, strides, padding, use_cudnn_on_gpu=None, name=None)\n",
    "\n",
    "input_data = tf.Variable(np.random.rand(10,9,9,4), dtype=np.float32)\n",
    "filter_data = tf.Variable(np.random.rand(3,3,4,2), dtype=np.float32)\n",
    "# padding为same时使用0填充，为valid时不填充\n",
    "y = tf.nn.conv2d(input_data, filter_data, strides=[1,1,1,1], padding=\"SAME\")\n",
    "#y = tf.nn.conv2d(input_data, filter_data, strides=[1,1,1,1], padding=\"VALID\")\n",
    "\n",
    "print(input_data)\n",
    "print(y)"
   ]
  },
  {
   "cell_type": "code",
   "execution_count": 2,
   "metadata": {},
   "outputs": [
    {
     "name": "stdout",
     "output_type": "stream",
     "text": [
      "conv: Tensor(\"Conv2D_1:0\", shape=(10, 9, 9, 2), dtype=float32)\n",
      "pool_padding_valid Tensor(\"AvgPool:0\", shape=(10, 5, 5, 2), dtype=float32)\n"
     ]
    }
   ],
   "source": [
    "# 池化函数使用示例\n",
    "import tensorflow as tf\n",
    "import numpy as np\n",
    "\n",
    "input_data = tf.Variable(np.random.rand(10,9,9,4), dtype=np.float32)\n",
    "filter_data = tf.Variable(np.random.rand(3,3,4,2), dtype=np.float32)\n",
    "y = tf.nn.conv2d(input_data, filter_data, strides=[1,1,1,1], padding='SAME')\n",
    "\n",
    "# 最大池化\n",
    "# tf.nn.max_pool(value, ksize, strides, padding, name=None)\n",
    "#output = tf.nn.max_pool(value=y, ksize=[1,2,2,1], strides=[1,2,2,1], padding='SAME')\n",
    "\n",
    "# 平均池化\n",
    "# tf.nn.avg_pool(value, ksize, strides, padding, name=None)\n",
    "output = tf.nn.avg_pool(value=y, ksize=[1,2,2,1], strides=[1,2,2,1], padding='SAME')\n",
    "\n",
    "\n",
    "print('conv:', y)\n",
    "print('pool_padding_valid', output)\n"
   ]
  }
 ],
 "metadata": {
  "kernelspec": {
   "display_name": "Python 3",
   "language": "python",
   "name": "python3"
  },
  "language_info": {
   "codemirror_mode": {
    "name": "ipython",
    "version": 3
   },
   "file_extension": ".py",
   "mimetype": "text/x-python",
   "name": "python",
   "nbconvert_exporter": "python",
   "pygments_lexer": "ipython3",
   "version": "3.6.1"
  }
 },
 "nbformat": 4,
 "nbformat_minor": 2
}
