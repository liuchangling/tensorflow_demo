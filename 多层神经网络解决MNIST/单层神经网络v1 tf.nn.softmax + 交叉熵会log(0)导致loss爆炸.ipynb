{
 "cells": [
  {
   "cell_type": "code",
   "execution_count": 1,
   "metadata": {},
   "outputs": [
    {
     "name": "stdout",
     "output_type": "stream",
     "text": [
      "Extracting MNIST_data\\train-images-idx3-ubyte.gz\n",
      "Extracting MNIST_data\\train-labels-idx1-ubyte.gz\n",
      "Extracting MNIST_data\\t10k-images-idx3-ubyte.gz\n",
      "Extracting MNIST_data\\t10k-labels-idx1-ubyte.gz\n"
     ]
    }
   ],
   "source": [
    "import tensorflow as tf\n",
    "import tensorflow.examples.tutorials.mnist.input_data as input_data\n",
    "\n",
    "mnist = input_data.read_data_sets('MNIST_data', one_hot=True)\n"
   ]
  },
  {
   "cell_type": "code",
   "execution_count": 2,
   "metadata": {
    "collapsed": true
   },
   "outputs": [],
   "source": [
    "#输入层 输出层\n",
    "x = tf.placeholder(tf.float32, [None, 784], name=\"X\")\n",
    "y = tf.placeholder(tf.float32, [None, 10], name=\"Y\")\n",
    "\n",
    "# 单隐藏层神经元数量\n",
    "H1_NN = 256\n",
    "W1 = tf.Variable(tf.random_normal([784,H1_NN]))\n",
    "b1 = tf.Variable(tf.zeros([H1_NN]))\n",
    "Y1 = tf.nn.relu(tf.matmul(x,W1)+b1) \n",
    "\n",
    "\n",
    "W2 = tf.Variable(tf.random_normal([H1_NN, 10]))\n",
    "b2 = tf.Variable(tf.zeros([10]))\n",
    "forward= tf.matmul(Y1,W2) + b2 \n",
    "\n",
    "pred = tf.nn.softmax(forward)\n",
    "\n",
    "loss_function = tf.reduce_mean(-tf.reduce_sum(y*tf.log(pred), reduction_indices=1))\n",
    "\n",
    "#训练参数\n",
    "train_epochs = 40\n",
    "batch_size = 50\n",
    "total_batch = int(mnist.train.num_examples/batch_size)\n",
    "display_step = 1\n",
    "learning_rate = 0.01\n",
    "\n",
    "optimizer = tf.train.AdamOptimizer(learning_rate).minimize(loss_function)\n",
    "\n",
    "correct_prediction = tf.equal(tf.argmax(y, 1), tf.argmax(pred, 1))\n",
    "accuracy = tf.reduce_mean(tf.cast(correct_prediction, tf.float32))\n",
    "\n",
    "\n"
   ]
  },
  {
   "cell_type": "code",
   "execution_count": 3,
   "metadata": {},
   "outputs": [
    {
     "name": "stdout",
     "output_type": "stream",
     "text": [
      "epoch =  1  loss =  nan  accuracy =  0.0958\n",
      "epoch =  2  loss =  nan  accuracy =  0.0958\n",
      "epoch =  3  loss =  nan  accuracy =  0.0958\n",
      "epoch =  4  loss =  nan  accuracy =  0.0958\n",
      "epoch =  5  loss =  nan  accuracy =  0.0958\n",
      "epoch =  6  loss =  nan  accuracy =  0.0958\n",
      "epoch =  7  loss =  nan  accuracy =  0.0958\n",
      "epoch =  8  loss =  nan  accuracy =  0.0958\n",
      "epoch =  9  loss =  nan  accuracy =  0.0958\n",
      "epoch =  10  loss =  nan  accuracy =  0.0958\n",
      "epoch =  11  loss =  nan  accuracy =  0.0958\n",
      "epoch =  12  loss =  nan  accuracy =  0.0958\n",
      "epoch =  13  loss =  nan  accuracy =  0.0958\n",
      "epoch =  14  loss =  nan  accuracy =  0.0958\n",
      "epoch =  15  loss =  nan  accuracy =  0.0958\n",
      "epoch =  16  loss =  nan  accuracy =  0.0958\n",
      "epoch =  17  loss =  nan  accuracy =  0.0958\n",
      "epoch =  18  loss =  nan  accuracy =  0.0958\n",
      "epoch =  19  loss =  nan  accuracy =  0.0958\n",
      "epoch =  20  loss =  nan  accuracy =  0.0958\n",
      "epoch =  21  loss =  nan  accuracy =  0.0958\n",
      "epoch =  22  loss =  nan  accuracy =  0.0958\n",
      "epoch =  23  loss =  nan  accuracy =  0.0958\n",
      "epoch =  24  loss =  nan  accuracy =  0.0958\n",
      "epoch =  25  loss =  nan  accuracy =  0.0958\n",
      "epoch =  26  loss =  nan  accuracy =  0.0958\n",
      "epoch =  27  loss =  nan  accuracy =  0.0958\n",
      "epoch =  28  loss =  nan  accuracy =  0.0958\n",
      "epoch =  29  loss =  nan  accuracy =  0.0958\n",
      "epoch =  30  loss =  nan  accuracy =  0.0958\n",
      "epoch =  31  loss =  nan  accuracy =  0.0958\n",
      "epoch =  32  loss =  nan  accuracy =  0.0958\n",
      "epoch =  33  loss =  nan  accuracy =  0.0958\n",
      "epoch =  34  loss =  nan  accuracy =  0.0958\n",
      "epoch =  35  loss =  nan  accuracy =  0.0958\n",
      "epoch =  36  loss =  nan  accuracy =  0.0958\n",
      "epoch =  37  loss =  nan  accuracy =  0.0958\n",
      "epoch =  38  loss =  nan  accuracy =  0.0958\n",
      "epoch =  39  loss =  nan  accuracy =  0.0958\n",
      "epoch =  40  loss =  nan  accuracy =  0.0958\n",
      "Train finished takes :  74.67730069160461\n"
     ]
    }
   ],
   "source": [
    "from time import time\n",
    "startTime = time()\n",
    "\n",
    "sess = tf.Session()\n",
    "sess.run(tf.global_variables_initializer())\n",
    "\n",
    "for epoch in range(train_epochs):\n",
    "    for batch in range(total_batch):\n",
    "        xs, ys = mnist.train.next_batch(batch_size)\n",
    "        sess.run(optimizer, feed_dict={x:xs, y:ys})\n",
    "        \n",
    "        \n",
    "    loss, acc = sess.run([loss_function, accuracy], feed_dict={\n",
    "        x:mnist.validation.images, y:mnist.validation.labels\n",
    "    })\n",
    "    \n",
    "    if(epoch+1)% display_step == 0:\n",
    "        print(\"epoch = \" , epoch+1,' loss = ', loss, \" accuracy = \", acc)\n",
    "    \n",
    "duration = time() - startTime\n",
    "print('Train finished takes : ' , duration)"
   ]
  },
  {
   "cell_type": "code",
   "execution_count": 4,
   "metadata": {},
   "outputs": [
    {
     "name": "stdout",
     "output_type": "stream",
     "text": [
      "test accuracy 0.098\n"
     ]
    }
   ],
   "source": [
    "accu_test = sess.run(accuracy, feed_dict={\n",
    "    x: mnist.test.images, y:mnist.test.labels\n",
    "})\n",
    "\n",
    "print('test accuracy', accu_test)\n",
    "\n"
   ]
  }
 ],
 "metadata": {
  "kernelspec": {
   "display_name": "Python 3",
   "language": "python",
   "name": "python3"
  },
  "language_info": {
   "codemirror_mode": {
    "name": "ipython",
    "version": 3
   },
   "file_extension": ".py",
   "mimetype": "text/x-python",
   "name": "python",
   "nbconvert_exporter": "python",
   "pygments_lexer": "ipython3",
   "version": "3.6.1"
  }
 },
 "nbformat": 4,
 "nbformat_minor": 2
}
