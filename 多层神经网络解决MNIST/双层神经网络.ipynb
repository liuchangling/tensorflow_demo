{
 "cells": [
  {
   "cell_type": "code",
   "execution_count": 1,
   "metadata": {},
   "outputs": [
    {
     "name": "stdout",
     "output_type": "stream",
     "text": [
      "Extracting MNIST_data\\train-images-idx3-ubyte.gz\n",
      "Extracting MNIST_data\\train-labels-idx1-ubyte.gz\n",
      "Extracting MNIST_data\\t10k-images-idx3-ubyte.gz\n",
      "Extracting MNIST_data\\t10k-labels-idx1-ubyte.gz\n"
     ]
    }
   ],
   "source": [
    "import tensorflow as tf\n",
    "import tensorflow.examples.tutorials.mnist.input_data as input_data\n",
    "\n",
    "mnist = input_data.read_data_sets('MNIST_data', one_hot=True)\n"
   ]
  },
  {
   "cell_type": "code",
   "execution_count": 2,
   "metadata": {},
   "outputs": [],
   "source": [
    "#输入层 输出层\n",
    "x = tf.placeholder(tf.float32, [None, 784], name=\"X\")\n",
    "y = tf.placeholder(tf.float32, [None, 10], name=\"Y\")\n",
    "\n",
    "# 输入层 - 第一隐藏层\n",
    "H1_NN = 256\n",
    "# 这里随机数符合正太分布 truncated_normal \n",
    "W1 = tf.Variable(tf.truncated_normal([784,H1_NN]))\n",
    "b1 = tf.Variable(tf.zeros([H1_NN]))\n",
    "Y1 = tf.nn.relu(tf.matmul(x,W1)+b1) \n",
    "\n",
    "# 第一隐藏层 - 第二隐藏层\n",
    "H2_NN = 64\n",
    "W2 = tf.Variable(tf.truncated_normal([H1_NN, H2_NN]))\n",
    "b2 = tf.Variable(tf.zeros([H2_NN]))\n",
    "Y2 = tf.nn.relu(tf.matmul(Y1, W2) + b2)\n",
    "\n",
    "# 第二隐藏层 - 输出层\n",
    "W3 = tf.Variable(tf.truncated_normal([H2_NN, 10]))\n",
    "b3 = tf.Variable(tf.zeros([10]))\n",
    "\n",
    "forward= tf.matmul(Y2,W3) + b3\n",
    "\n",
    "# 直接用softmax 加交叉熵会loss爆炸，因为有log(0)的计算\n",
    "pred = tf.nn.softmax(forward)\n",
    "#loss_function = tf.reduce_mean(-tf.reduce_sum(y*tf.log(pred), reduction_indices=1))\n",
    "\n",
    "# v2 用softmax_cross_entropy_with_logits api 会处理交叉熵的这个问题\n",
    "loss_function = tf.reduce_mean(tf.nn.softmax_cross_entropy_with_logits(logits=forward,labels = y))\n",
    "\n",
    "#训练参数\n",
    "train_epochs = 40\n",
    "batch_size = 50\n",
    "total_batch = int(mnist.train.num_examples/batch_size)\n",
    "display_step = 1\n",
    "learning_rate = 0.01\n",
    "\n",
    "optimizer = tf.train.AdamOptimizer(learning_rate).minimize(loss_function)\n",
    "\n",
    "correct_prediction = tf.equal(tf.argmax(y, 1), tf.argmax(pred, 1))\n",
    "accuracy = tf.reduce_mean(tf.cast(correct_prediction, tf.float32))\n",
    "\n",
    "\n"
   ]
  },
  {
   "cell_type": "code",
   "execution_count": 3,
   "metadata": {},
   "outputs": [
    {
     "name": "stdout",
     "output_type": "stream",
     "text": [
      "epoch =  1  loss =  1.1209  accuracy =  0.6752\n",
      "epoch =  2  loss =  0.651464  accuracy =  0.8344\n",
      "epoch =  3  loss =  0.431758  accuracy =  0.895\n",
      "epoch =  4  loss =  0.414819  accuracy =  0.8942\n",
      "epoch =  5  loss =  0.34295  accuracy =  0.9232\n",
      "epoch =  6  loss =  0.29101  accuracy =  0.918\n",
      "epoch =  7  loss =  0.269231  accuracy =  0.947\n",
      "epoch =  8  loss =  0.249211  accuracy =  0.9394\n",
      "epoch =  9  loss =  0.222712  accuracy =  0.9526\n",
      "epoch =  10  loss =  0.233455  accuracy =  0.9444\n",
      "epoch =  11  loss =  0.268298  accuracy =  0.952\n",
      "epoch =  12  loss =  0.235446  accuracy =  0.9556\n",
      "epoch =  13  loss =  0.342482  accuracy =  0.9564\n",
      "epoch =  14  loss =  0.203057  accuracy =  0.961\n",
      "epoch =  15  loss =  0.223026  accuracy =  0.9598\n",
      "epoch =  16  loss =  0.204463  accuracy =  0.9572\n",
      "epoch =  17  loss =  0.2804  accuracy =  0.9598\n",
      "epoch =  18  loss =  0.168222  accuracy =  0.9656\n",
      "epoch =  19  loss =  0.2457  accuracy =  0.9612\n",
      "epoch =  20  loss =  0.245082  accuracy =  0.9578\n",
      "epoch =  21  loss =  0.291565  accuracy =  0.9588\n",
      "epoch =  22  loss =  0.217773  accuracy =  0.9624\n",
      "epoch =  23  loss =  0.196055  accuracy =  0.9622\n",
      "epoch =  24  loss =  0.372799  accuracy =  0.9584\n",
      "epoch =  25  loss =  0.433094  accuracy =  0.9542\n",
      "epoch =  26  loss =  0.316616  accuracy =  0.9678\n",
      "epoch =  27  loss =  0.230493  accuracy =  0.9518\n",
      "epoch =  28  loss =  0.210464  accuracy =  0.9598\n",
      "epoch =  29  loss =  0.23882  accuracy =  0.9596\n",
      "epoch =  30  loss =  0.25974  accuracy =  0.9642\n",
      "epoch =  31  loss =  0.413452  accuracy =  0.9578\n",
      "epoch =  32  loss =  0.284286  accuracy =  0.94\n",
      "epoch =  33  loss =  0.299945  accuracy =  0.9544\n",
      "epoch =  34  loss =  0.444811  accuracy =  0.9574\n",
      "epoch =  35  loss =  0.402026  accuracy =  0.957\n",
      "epoch =  36  loss =  0.377692  accuracy =  0.9618\n",
      "epoch =  37  loss =  0.424106  accuracy =  0.9636\n",
      "epoch =  38  loss =  0.339912  accuracy =  0.9658\n",
      "epoch =  39  loss =  0.33948  accuracy =  0.9654\n",
      "epoch =  40  loss =  0.452545  accuracy =  0.9552\n",
      "Train finished takes :  80.75342226028442\n"
     ]
    }
   ],
   "source": [
    "from time import time\n",
    "startTime = time()\n",
    "\n",
    "sess = tf.Session()\n",
    "sess.run(tf.global_variables_initializer())\n",
    "\n",
    "for epoch in range(train_epochs):\n",
    "    for batch in range(total_batch):\n",
    "        xs, ys = mnist.train.next_batch(batch_size)\n",
    "        sess.run(optimizer, feed_dict={x:xs, y:ys})\n",
    "        \n",
    "        \n",
    "    loss, acc = sess.run([loss_function, accuracy], feed_dict={\n",
    "        x:mnist.validation.images, y:mnist.validation.labels\n",
    "    })\n",
    "    \n",
    "    if(epoch+1)% display_step == 0:\n",
    "        print(\"epoch = \" , epoch+1,' loss = ', loss, \" accuracy = \", acc)\n",
    "    \n",
    "duration = time() - startTime\n",
    "print('Train finished takes : ' , duration)\n",
    "    \n",
    "        \n",
    "        \n",
    "        \n",
    "        "
   ]
  },
  {
   "cell_type": "code",
   "execution_count": 4,
   "metadata": {},
   "outputs": [
    {
     "name": "stdout",
     "output_type": "stream",
     "text": [
      "test accuracy 0.9548\n"
     ]
    }
   ],
   "source": [
    "accu_test = sess.run(accuracy, feed_dict={\n",
    "    x: mnist.test.images, y:mnist.test.labels\n",
    "})\n",
    "\n",
    "print('test accuracy', accu_test)\n"
   ]
  },
  {
   "cell_type": "code",
   "execution_count": 5,
   "metadata": {
    "collapsed": true
   },
   "outputs": [],
   "source": [
    "# one_hot to 数字（index）\n",
    "prediction_result = sess.run(tf.argmax(pred, 1),feed_dict={x:mnist.test.images})\n",
    "# prediction_result[0:10]\n",
    "\n",
    "import numpy as np\n",
    "compare_list = prediction_result == np.argmax(mnist.test.labels, 1)\n",
    "#print(compare_list)\n",
    "err_list = [i for i in range(len(compare_list)) if compare_list[i]==False]\n",
    "#print(err_list)\n",
    "#print(len(err_list))"
   ]
  },
  {
   "cell_type": "code",
   "execution_count": 6,
   "metadata": {
    "collapsed": true
   },
   "outputs": [],
   "source": [
    "def print_predict_err(labels, prediction):\n",
    "    count = 0 \n",
    "    compare_list = (prediction == np.argmax(labels, 1))\n",
    "    err_list = [i for i in range(len(compare_lists)) if compare_list[i] == False]\n",
    "    for x in err_lists:\n",
    "        print(\"index = \", x, \" 标签值 = \", np.argmax(labels[x]), \" 预测值 = \", prediction[x] )\n",
    "        count = count + 1\n",
    "    print (\"总计 : \",count )"
   ]
  },
  {
   "cell_type": "code",
   "execution_count": 7,
   "metadata": {},
   "outputs": [
    {
     "data": {
      "image/png": "[encoded data removed]",
      "text/plain": [
       "<matplotlib.figure.Figure at 0x10b45f09b0>"
      ]
     },
     "metadata": {},
     "output_type": "display_data"
    }
   ],
   "source": [
    "import matplotlib.pyplot as plt\n",
    "# 可视化看结果的函数，最多显示25张图\n",
    "def plot_images_labels_prediction(images,\n",
    "                                  labels,\n",
    "                                  prediction,\n",
    "                                  index, # 从第index个开始显示\n",
    "                                  num=10):\n",
    "    fig = plt.gcf()# get current figure\n",
    "    fig.set_size_inches(10,12) # 当前图像大小为10英寸*12英寸\n",
    "    if num>25:\n",
    "        num = 25\n",
    "    for i in range(0,num):\n",
    "        ax = plt.subplot(5,5,i+1) # 获取当前要处理的子图\n",
    "        ax.imshow(np.reshape(images[index],(28,28)),cmap='binary') #指定image reshape\n",
    "        title = 'label=' + str(np.argmax(labels[index]))\n",
    "        \n",
    "        ax.set_title(title,fontsize=10) # 在图上显示预测值\n",
    "        ax.set_xticks([]) # 为了美观， 不显示x和y轴\n",
    "        ax.set_xticks([])\n",
    "        index = index + 1\n",
    "    plt.show()\n",
    "\n",
    "plot_images_labels_prediction(mnist.test.images, mnist.test.labels, prediction_result, 610, 20)"
   ]
  },
  {
   "cell_type": "code",
   "execution_count": null,
   "metadata": {
    "collapsed": true
   },
   "outputs": [],
   "source": []
  }
 ],
 "metadata": {
  "kernelspec": {
   "display_name": "Python 3",
   "language": "python",
   "name": "python3"
  },
  "language_info": {
   "codemirror_mode": {
    "name": "ipython",
    "version": 3
   },
   "file_extension": ".py",
   "mimetype": "text/x-python",
   "name": "python",
   "nbconvert_exporter": "python",
   "pygments_lexer": "ipython3",
   "version": "3.6.1"
  }
 },
 "nbformat": 4,
 "nbformat_minor": 2
}
