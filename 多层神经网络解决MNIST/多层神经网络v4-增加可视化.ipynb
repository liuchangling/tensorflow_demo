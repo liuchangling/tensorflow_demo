{
 "cells": [
  {
   "cell_type": "code",
   "execution_count": 1,
   "metadata": {},
   "outputs": [
    {
     "name": "stdout",
     "output_type": "stream",
     "text": [
      "Extracting MNIST_data\\train-images-idx3-ubyte.gz\n",
      "Extracting MNIST_data\\train-labels-idx1-ubyte.gz\n",
      "Extracting MNIST_data\\t10k-images-idx3-ubyte.gz\n",
      "Extracting MNIST_data\\t10k-labels-idx1-ubyte.gz\n"
     ]
    }
   ],
   "source": [
    "import tensorflow as tf\n",
    "import tensorflow.examples.tutorials.mnist.input_data as input_data\n",
    "\n",
    "mnist = input_data.read_data_sets('MNIST_data', one_hot=True)\n",
    "\n",
    "tf.reset_default_graph()\n",
    "logdir = 'C:/code/log'"
   ]
  },
  {
   "cell_type": "code",
   "execution_count": null,
   "metadata": {},
   "outputs": [
    {
     "data": {
      "text/plain": [
       "<tf.Tensor 'accuracy:0' shape=() dtype=string>"
      ]
     },
     "execution_count": 2,
     "metadata": {},
     "output_type": "execute_result"
    }
   ],
   "source": [
    "\n",
    "# 【新增】 准备一个用于保存训练和恢复的saver\n",
    "import os \n",
    "ckpt_dir = './ckpt_dir/'\n",
    "if not os.path.exists(ckpt_dir):\n",
    "    os.makedirs(ckpt_dir)\n",
    "    \n",
    "\n",
    "#输入层 输出层\n",
    "x = tf.placeholder(tf.float32, [None, 784], name=\"X\")\n",
    "y = tf.placeholder(tf.float32, [None, 10], name=\"Y\")\n",
    "\n",
    "\n",
    "image_shaped_input = tf.reshape(x,[-1,28,28,1])\n",
    "tf.summary.image('input',image_shaped_input,10)\n",
    "\n",
    "# 神经元个数\n",
    "H1_NN = 256\n",
    "H2_NN = 64\n",
    "H3_NN = 32\n",
    "\n",
    "def fcn_layer(inputs, # 输入数据\n",
    "              input_dim, # 神经元数量\n",
    "              output_dim, #输出神经元数量\n",
    "              activation = None # 激活函数\n",
    "             ):\n",
    "    W = tf.Variable(tf.truncated_normal([input_dim, output_dim], stddev=0.1))\n",
    "    b = tf.Variable(tf.zeros([output_dim]))\n",
    "    \n",
    "    XWb = tf.matmul(inputs, W) + b\n",
    "    \n",
    "    if activation is None:\n",
    "        outputs = XWb\n",
    "    else:\n",
    "        outputs = activation(XWb)\n",
    "        \n",
    "    return outputs\n",
    "\n",
    "h1 = fcn_layer(x, 784, H1_NN, tf.nn.relu )\n",
    "h2 = fcn_layer(h1, H1_NN, H2_NN, tf.nn.relu )\n",
    "h3 = fcn_layer(h2, H2_NN, H3_NN, tf.nn.relu )\n",
    "forward = fcn_layer(h3, H3_NN, 10)\n",
    "\n",
    "# 直方图显示\n",
    "tf.summary.histogram('forward', forward)\n",
    "\n",
    "# 直接用softmax 加交叉熵会loss爆炸，因为有log(0)的计算\n",
    "pred = tf.nn.softmax(forward)\n",
    "#loss_function = tf.reduce_mean(-tf.reduce_sum(y*tf.log(pred), reduction_indices=1))\n",
    "\n",
    "# v2 用softmax_cross_entropy_with_logits api 会处理交叉熵的这个问题\n",
    "loss_function = tf.reduce_mean(tf.nn.softmax_cross_entropy_with_logits(logits=forward,labels = y))\n",
    "\n",
    "# 标量显示loss\n",
    "tf.summary.scalar('loss', loss_function)\n",
    "\n",
    "#训练参数\n",
    "train_epochs = 5\n",
    "batch_size = 50\n",
    "total_batch = int(mnist.train.num_examples/batch_size)\n",
    "display_step = 1\n",
    "learning_rate = 0.01\n",
    "\n",
    "optimizer = tf.train.AdamOptimizer(learning_rate).minimize(loss_function)\n",
    "\n",
    "correct_prediction = tf.equal(tf.argmax(y, 1), tf.argmax(pred, 1))\n",
    "accuracy = tf.reduce_mean(tf.cast(correct_prediction, tf.float32))\n",
    "\n",
    "\n",
    "tf.summary.scalar('accuracy', accuracy)"
   ]
  },
  {
   "cell_type": "code",
   "execution_count": null,
   "metadata": {},
   "outputs": [
    {
     "name": "stdout",
     "output_type": "stream",
     "text": [
      "epoch =  1  loss =  0.189344  accuracy =  0.9526\n",
      "epoch =  2  loss =  0.137486  accuracy =  0.9648\n"
     ]
    }
   ],
   "source": [
    "# 【新增】存储模型的粒度\n",
    "save_step = 5\n",
    "# 所有变量声明完之后，调用tf.train.Saver()\n",
    "saver = tf.train.Saver()\n",
    "\n",
    "\n",
    "from time import time\n",
    "startTime = time()\n",
    "\n",
    "sess = tf.Session()\n",
    "sess.run(tf.global_variables_initializer())\n",
    "\n",
    "merged_summary_op = tf.summary.merge_all()\n",
    "writer = tf.summary.FileWriter('log/', sess.graph)\n",
    "for epoch in range(train_epochs):\n",
    "    for batch in range(total_batch):\n",
    "        xs, ys = mnist.train.next_batch(batch_size)\n",
    "        sess.run(optimizer, feed_dict={x:xs, y:ys})\n",
    "        \n",
    "        # 生成summary\n",
    "        summary_str = sess.run(merged_summary_op, feed_dict={x:xs,y:ys})\n",
    "        # summary写入文件\n",
    "        writer.add_summary(summary_str,epoch) \n",
    "        \n",
    "    loss, acc = sess.run([loss_function, accuracy], feed_dict={\n",
    "        x:mnist.validation.images, y:mnist.validation.labels\n",
    "    })\n",
    "    \n",
    "    if(epoch+1)% display_step == 0:\n",
    "        print(\"epoch = \" , epoch+1,' loss = ', loss, \" accuracy = \", acc)\n",
    "        \n",
    "    # 【新增】\n",
    "    if(epoch+1)% save_step == 0: \n",
    "            saver.save(sess, os.path.join(ckpt_dir, 'mnist_h256_model_{:06d}.ckpt'.format(epoch+1)))\n",
    "            \n",
    "saver.save(sess, os.path.join(ckpt_dir, 'mnist_h256_model.ckpt'))\n",
    "print(\"model saved\")\n",
    "            \n",
    "duration = time() - startTime\n",
    "print('Train finished takes : ' , duration)"
   ]
  },
  {
   "cell_type": "code",
   "execution_count": null,
   "metadata": {},
   "outputs": [],
   "source": [
    "accu_test = sess.run(accuracy, feed_dict={\n",
    "    x: mnist.test.images, y:mnist.test.labels\n",
    "})\n",
    "\n",
    "print('test accuracy', accu_test)\n"
   ]
  },
  {
   "cell_type": "code",
   "execution_count": null,
   "metadata": {
    "collapsed": true
   },
   "outputs": [],
   "source": [
    "# one_hot to 数字（index）\n",
    "prediction_result = sess.run(tf.argmax(pred, 1),feed_dict={x:mnist.test.images})\n",
    "# prediction_result[0:10]\n",
    "\n",
    "import numpy as np\n",
    "compare_list = prediction_result == np.argmax(mnist.test.labels, 1)\n",
    "#print(compare_list)\n",
    "err_list = [i for i in range(len(compare_list)) if compare_list[i]==False]\n",
    "#print(err_list)\n",
    "#print(len(err_list))"
   ]
  },
  {
   "cell_type": "code",
   "execution_count": null,
   "metadata": {
    "collapsed": true
   },
   "outputs": [],
   "source": [
    "def print_predict_err(labels, prediction):\n",
    "    count = 0 \n",
    "    compare_list = (prediction == np.argmax(labels, 1))\n",
    "    err_list = [i for i in range(len(compare_lists)) if compare_list[i] == False]\n",
    "    for x in err_lists:\n",
    "        print(\"index = \", x, \" 标签值 = \", np.argmax(labels[x]), \" 预测值 = \", prediction[x] )\n",
    "        count = count + 1\n",
    "    print (\"总计 : \",count )"
   ]
  },
  {
   "cell_type": "code",
   "execution_count": null,
   "metadata": {},
   "outputs": [],
   "source": [
    "import matplotlib.pyplot as plt\n",
    "# 可视化看结果的函数，最多显示25张图\n",
    "def plot_images_labels_prediction(images,\n",
    "                                  labels,\n",
    "                                  prediction,\n",
    "                                  index, # 从第index个开始显示\n",
    "                                  num=10):\n",
    "    fig = plt.gcf()# get current figure\n",
    "    fig.set_size_inches(10,12) # 当前图像大小为10英寸*12英寸\n",
    "    if num>25:\n",
    "        num = 25\n",
    "    for i in range(0,num):\n",
    "        ax = plt.subplot(5,5,i+1) # 获取当前要处理的子图\n",
    "        ax.imshow(np.reshape(images[index],(28,28)),cmap='binary') #指定image reshape\n",
    "        title = 'label=' + str(np.argmax(labels[index]))\n",
    "        \n",
    "        ax.set_title(title,fontsize=10) # 在图上显示预测值\n",
    "        ax.set_xticks([]) # 为了美观， 不显示x和y轴\n",
    "        ax.set_xticks([])\n",
    "        index = index + 1\n",
    "    plt.show()\n",
    "\n",
    "plot_images_labels_prediction(mnist.test.images, mnist.test.labels, prediction_result, 610, 20)"
   ]
  },
  {
   "cell_type": "code",
   "execution_count": null,
   "metadata": {
    "collapsed": true
   },
   "outputs": [],
   "source": [
    "writer = tf.summary.FileWriter(logdir, tf.get_default_graph())\n",
    "writer.close()"
   ]
  }
 ],
 "metadata": {
  "kernelspec": {
   "display_name": "Python 3",
   "language": "python",
   "name": "python3"
  },
  "language_info": {
   "codemirror_mode": {
    "name": "ipython",
    "version": 3
   },
   "file_extension": ".py",
   "mimetype": "text/x-python",
   "name": "python",
   "nbconvert_exporter": "python",
   "pygments_lexer": "ipython3",
   "version": "3.6.1"
  }
 },
 "nbformat": 4,
 "nbformat_minor": 2
}
