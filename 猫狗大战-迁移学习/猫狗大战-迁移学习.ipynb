{
 "cells": [
  {
   "cell_type": "code",
   "execution_count": 1,
   "metadata": {},
   "outputs": [],
   "source": [
    "# 模型重新训练和保存\n",
    "from time import time\n",
    "import os\n",
    "import tensorflow as tf\n",
    "import numpy as np\n",
    "import VGG16_model as model\n",
    "import utils"
   ]
  },
  {
   "cell_type": "markdown",
   "metadata": {
    "collapsed": true
   },
   "source": [
    "![函数列表](functions.PNG)"
   ]
  },
  {
   "cell_type": "code",
   "execution_count": null,
   "metadata": {},
   "outputs": [
    {
     "name": "stdout",
     "output_type": "stream",
     "text": [
      "-----------weights loaded---------------\n"
     ]
    }
   ],
   "source": [
    "startTime = time()\n",
    "batch_size = 32\n",
    "capacity = 256 # 内存中存储的最大数据容量\n",
    "means = [123.68, 116.779, 103.939] # VGG训练时图像预处理所减均值 rgb三通道\n",
    "\n",
    "xs,ys = utils.get_file('./data/train/') # 获取图像列表和标签列表\n",
    "\n",
    "# 通过读取列表来载入批量图片及标签\n",
    "image_batch, label_batch = utils.get_batch(xs, ys, 224, 224, batch_size, capacity) \n",
    "\n",
    "x = tf.placeholder(tf.float32, [None, 224, 224, 3])\n",
    "y = tf.placeholder(tf.int32, [None,2])\n",
    "\n",
    "vgg = model.vgg16(x)\n",
    "fc8_finetuining = vgg.probs # 即softmax(fc8)\n",
    "\n",
    "loss_function = tf.reduce_mean(tf.nn.softmax_cross_entropy_with_logits(logits=fc8_finetuining, labels=y))\n",
    "\n",
    "optimizer = tf.train.GradientDescentOptimizer(learning_rate=0.001).minimize(loss_function)\n",
    "\n",
    "sess = tf.Session()\n",
    "sess.run(tf.global_variables_initializer())\n",
    "vgg.load_weights('../vgg16_weights.npz', sess)\n",
    "\n",
    "saver = tf.train.Saver()\n",
    "\n",
    "\n"
   ]
  },
  {
   "cell_type": "code",
   "execution_count": null,
   "metadata": {},
   "outputs": [
    {
     "name": "stdout",
     "output_type": "stream",
     "text": [
      "Now the loss is 0.595216\n",
      "Current epoch takes:  26.62547779083252\n",
      "--------Epoch 0 is finisthed------------\n"
     ]
    }
   ],
   "source": [
    "# 启动线程\n",
    "coord = tf.train.Coordinator() # 使用协调器Coordinator 来管理线程\n",
    "threads = tf.train.start_queue_runners(coord=coord, sess=sess)\n",
    "\n",
    "epoch_start_time = time()\n",
    "\n",
    "# 迭代训练 （教学这里是1000轮。。。他机器每次0.2s一轮我不知道咋搞的，反正我这里要25s一轮。。。跑了四小时）\n",
    "for i in range(1000):\n",
    "    images , labels = sess.run([image_batch, label_batch])\n",
    "    labels = utils.onehot(labels) # 用one-hot 形式对标签进行编码\n",
    "    \n",
    "    sess.run(optimizer, feed_dict={x:images, y:labels})\n",
    "    loss = sess.run(loss_function, feed_dict={x:images, y:labels})\n",
    "    print('Now the loss is %f'%loss)\n",
    "    \n",
    "    epoch_end_time = time()\n",
    "    print('Current epoch takes: ', (epoch_end_time - epoch_start_time))\n",
    "    \n",
    "    epoch_start_time = epoch_end_time\n",
    "    if (i + 1) % 10 == 0:\n",
    "        saver.save(sess,os.path.join('./model/','epoch {:06d}.ckpt'.format(i)))\n",
    "    \n",
    "    print(\"--------Epoch %d is finisthed------------\"%i)\n",
    "\n",
    "# 模型保存\n",
    "saver.save(sess, './model/')\n",
    "print('Optimization Finished')\n",
    "\n",
    "duration = time() - startTime\n",
    "print('Train finishied takes: duration', '{:.2f}'.format(duration))\n",
    "\n",
    "# 关闭线程\n",
    "coord.request_stop()# 通知其他线程关闭\n",
    "coord.join(threads) # join操作等待其他线程结束，其他所有线程关闭后，这一函数才能返回\n"
   ]
  }
 ],
 "metadata": {
  "kernelspec": {
   "display_name": "Python 3",
   "language": "python",
   "name": "python3"
  },
  "language_info": {
   "codemirror_mode": {
    "name": "ipython",
    "version": 3
   },
   "file_extension": ".py",
   "mimetype": "text/x-python",
   "name": "python",
   "nbconvert_exporter": "python",
   "pygments_lexer": "ipython3",
   "version": "3.6.1"
  }
 },
 "nbformat": 4,
 "nbformat_minor": 2
}
