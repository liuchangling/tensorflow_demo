{
 "cells": [
  {
   "cell_type": "code",
   "execution_count": 1,
   "metadata": {},
   "outputs": [
    {
     "name": "stdout",
     "output_type": "stream",
     "text": [
      "Model restoring...\n",
      "INFO:tensorflow:Restoring parameters from ./model/\n"
     ]
    }
   ],
   "source": [
    "from scipy.misc import imread, imresize\n",
    "import tensorflow as tf\n",
    "import VGG16_model as model\n",
    "import numpy as np \n",
    "\n",
    "# 预测\n",
    "means =[123,68, 116.779,103.939]\n",
    "x = tf.placeholder(tf.float32, [None, 224, 224 ,3])\n",
    "\n",
    "sess = tf.Session()\n",
    "vgg = model.vgg16(x) \n",
    "\n",
    "fc8_finetuining = vgg.probs\n",
    "\n",
    "saver = tf.train.Saver()\n",
    "print('Model restoring...')\n",
    "saver.restore(sess, './model/') # 恢复最后保存的模型\n",
    "# 或者指定恢复检查点\n",
    "# saver.restore(sess.'./model/epoch_00080.ckpt')\n",
    "\n",
    "\n",
    "def pred(filepath):\n",
    "    img = imread(filepath, mode='RGB')\n",
    "    img = imresize(img, (224,224))\n",
    "    img = img.astype(np.float32)\n",
    "    \n",
    "    for c in range(3):\n",
    "        img[:,:,c] -= means[c]\n",
    "    \n",
    "    # [img] (224,224,3) -> (? ,224, 224, 3)\n",
    "    prob = sess.run(fc8_finetuining, feed_dict={x:[img]})\n",
    "    max_index = np.argmax(prob)\n",
    "    if max_index == 0 :\n",
    "        print('this is a cat, possiblity %.6f' %prob[:,0])\n",
    "    else:\n",
    "        print('this is a dog, possiblity %.6f' %prob[:,1])"
   ]
  },
  {
   "cell_type": "code",
   "execution_count": 2,
   "metadata": {},
   "outputs": [
    {
     "name": "stdout",
     "output_type": "stream",
     "text": [
      "this is a dog, possiblity 0.539702\n"
     ]
    }
   ],
   "source": [
    "\n",
    "dog_filepath = './data/test/66.jpg'# 狗\n",
    "\n",
    "pred(dog_filepath)"
   ]
  },
  {
   "cell_type": "code",
   "execution_count": 3,
   "metadata": {},
   "outputs": [
    {
     "name": "stdout",
     "output_type": "stream",
     "text": [
      "this is a cat, possiblity 0.999954\n"
     ]
    }
   ],
   "source": [
    "\n",
    "cat_filepath = './data/test/92.jpg'# 猫\n",
    "\n",
    "pred(cat_filepath)"
   ]
  }
 ],
 "metadata": {
  "kernelspec": {
   "display_name": "Python 3",
   "language": "python",
   "name": "python3"
  },
  "language_info": {
   "codemirror_mode": {
    "name": "ipython",
    "version": 3
   },
   "file_extension": ".py",
   "mimetype": "text/x-python",
   "name": "python",
   "nbconvert_exporter": "python",
   "pygments_lexer": "ipython3",
   "version": "3.6.1"
  }
 },
 "nbformat": 4,
 "nbformat_minor": 2
}
